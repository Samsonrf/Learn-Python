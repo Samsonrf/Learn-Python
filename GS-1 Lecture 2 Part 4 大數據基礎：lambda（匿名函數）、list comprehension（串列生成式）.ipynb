{
 "cells": [
  {
   "cell_type": "markdown",
   "metadata": {},
   "source": [
    "# 一行搞定判斷式\n",
    "一個 if...else 判斷式再簡單，也需要四行程式碼才能完成\n",
    "\n",
    "```python\n",
    "def greater_than_five(x):\n",
    "    if x > 5:\n",
    "        return True\n",
    "    else:\n",
    "        return False\n",
    "```\n"
   ]
  },
  {
   "cell_type": "code",
   "execution_count": null,
   "metadata": {},
   "outputs": [],
   "source": []
  },
  {
   "cell_type": "markdown",
   "metadata": {},
   "source": [
    "# 一行搞定判斷式\n",
    "\n",
    "```python\n",
    "x = 6\n",
    "True if x > 5 else False\n",
    "# True\n",
    "```\n"
   ]
  },
  {
   "cell_type": "code",
   "execution_count": null,
   "metadata": {},
   "outputs": [],
   "source": []
  },
  {
   "cell_type": "markdown",
   "metadata": {},
   "source": [
    "# 最後我們的函式就可以簡化成...\n",
    "\n",
    "```python\n",
    "def greater_than_five(x):\n",
    "    return True if x > 5 else False\n",
    "```"
   ]
  },
  {
   "cell_type": "code",
   "execution_count": null,
   "metadata": {},
   "outputs": [],
   "source": []
  },
  {
   "cell_type": "markdown",
   "metadata": {},
   "source": [
    "# 大量資料的運算\n",
    "\n",
    "大量的資料是需要做分析和運算\n",
    "\n",
    "意味著我們要學會如何有效的去處理資料\n",
    "\n",
    "# 回顧一下串列\n",
    "\n",
    "之前我們學會了串列（List）\n",
    "\n",
    "今天若我需要對串列做 Element-wise（逐元）運算\n",
    "\n",
    "也就是將串列内的**每一筆資料都做一樣的運算或操作**\n",
    "\n",
    "從 Excel 的邏輯來理解，就是下拉的動作\n",
    "\n",
    "而用程式語言實作，就必須要用迴圈處理\n",
    "\n",
    "\n",
    "# 範例\n",
    "\n",
    "將 `km_list` 内的每一個長度從公里換算成英里：\n",
    "\n",
    "```python\n",
    "km_list = [3, 5, 10, 21, 42.195]\n",
    "mile_list = []\n",
    "\n",
    "km_to_mile = 0.621371192\n",
    "\n",
    "for km in km_list:\n",
    "    mile_list.append(km * km_to_mile)\n",
    "\n",
    "print(mile_list)\n",
    "# [1.864113576, 3.10685596, 6.21371192, 13.048795032000001, 26.21875744644]\n",
    "```\n"
   ]
  },
  {
   "cell_type": "code",
   "execution_count": null,
   "metadata": {},
   "outputs": [],
   "source": []
  },
  {
   "cell_type": "markdown",
   "metadata": {},
   "source": [
    "# for 迴圈雖然可以幫我們做逐元運算\n",
    "\n",
    "但是程式碼還是過渡冗長..."
   ]
  },
  {
   "cell_type": "code",
   "execution_count": null,
   "metadata": {},
   "outputs": [],
   "source": []
  },
  {
   "cell_type": "markdown",
   "metadata": {},
   "source": [
    "# lambda 匿名函數\n",
    "\n",
    "我們在寫函式 (Function) 的時候，若是遇上相對簡單的邏輯:\n",
    "\n",
    "```python\n",
    "def plus_one(n):\n",
    "    return n + 1\n",
    "```\n",
    "\n",
    "這樣的語法就相對的有些囉嗦，沒必要為如此簡單的邏輯特別娶一個名字"
   ]
  },
  {
   "cell_type": "code",
   "execution_count": null,
   "metadata": {},
   "outputs": [],
   "source": []
  },
  {
   "cell_type": "markdown",
   "metadata": {},
   "source": [
    "\n",
    "# lambda 匿名函數\n",
    "這裡就跟各位介紹 lambda 函數\n",
    "\n",
    "**lambda 參數1, 參數2 : 算式**\n",
    "\n",
    "```python\n",
    "# 注意我可以把 lambda 函數賦值給一個變數\n",
    "plus_one = lambda n : n + 1\n",
    "\n",
    "# 再把變數當成函數使用\n",
    "plus_one(10)\n",
    "# 11\n",
    "```"
   ]
  },
  {
   "cell_type": "code",
   "execution_count": null,
   "metadata": {},
   "outputs": [],
   "source": []
  },
  {
   "cell_type": "markdown",
   "metadata": {},
   "source": [
    "# lambda 匿名函數\n",
    "\n",
    "- 不需要 def、return\n",
    "- 也不需要為函數取名\n",
    "\n",
    "---\n",
    "# 隨堂練習\n",
    "用 lambda 函數計算營業稅金額\n",
    "\n",
    "```python\n",
    "calculate_tax = lambda amount : ___________\n",
    "\n",
    "calculate_tax(100000)\n",
    "```\n"
   ]
  },
  {
   "cell_type": "code",
   "execution_count": null,
   "metadata": {},
   "outputs": [],
   "source": []
  },
  {
   "cell_type": "markdown",
   "metadata": {},
   "source": [
    "\n",
    "# lambda 匿名函數\n",
    "如果今天lambda 函數有超過一個參數時...\n",
    "\n",
    "```python\n",
    "area_of_rectangle = lambda width, height : width * height\n",
    "area_of_rectangle(10, 20)\n",
    "# 200\n",
    "```"
   ]
  },
  {
   "cell_type": "code",
   "execution_count": null,
   "metadata": {},
   "outputs": [],
   "source": []
  },
  {
   "cell_type": "markdown",
   "metadata": {},
   "source": [
    "# lambda 匿名函數\n",
    "\n",
    "背後的原理：λ演算法\n",
    "\n",
    "[λ演算法 Wiki](https://en.wikipedia.org/wiki/Lambda_calculus)\n",
    "\n",
    "---\n",
    "# 用 lambda 函數做逐元運算\n",
    "\n",
    "# map 函數\n",
    "若今天我需要針對一個 list 的資料做逐元運算\n",
    "\n",
    "得出的結果也是一個 list, 實作上就相對麻煩...\n",
    "\n",
    "```python\n",
    "items = [1, 2, 3, 4, 5]\n",
    "squared = []\n",
    "for i in items:\n",
    "    squared.append(i**2)\n",
    "```"
   ]
  },
  {
   "cell_type": "code",
   "execution_count": null,
   "metadata": {},
   "outputs": [],
   "source": []
  },
  {
   "cell_type": "markdown",
   "metadata": {},
   "source": [
    "# map 函數\n",
    "除了用迴圈之外，其實還可以使用 map 函數:\n",
    "\n",
    "map(要使用的函數, 用 list 等資料結構封裝的輸入)\n",
    "\n",
    "```python\n",
    "items = [1, 2, 3, 4, 5]\n",
    "\n",
    "# 把 items 裡面所有數字的二次方算出來\n",
    "result = map(lambda x: x**2, items)\n",
    "# 最後別忘了把回傳的 map 物件轉成 list\n",
    "list(result)\n",
    "# [1, 4, 9, 16, 25]\n",
    "```\n"
   ]
  },
  {
   "cell_type": "code",
   "execution_count": null,
   "metadata": {},
   "outputs": [],
   "source": []
  },
  {
   "cell_type": "markdown",
   "metadata": {},
   "source": [
    "# lambda + map 函數\n",
    "\n",
    "這樣寫的特性在於：\n",
    "- `lambda x: x**2` 可以被看成是一個**用過即丟的函數，無需定義名稱**\n",
    "\n",
    "- 在進行語法上由於結果是由多個函數拼凑起來的（很像 Excel 的公式）\n",
    "- 因此這種寫法被稱爲 Functional Programming （函式程式設計）\n"
   ]
  },
  {
   "cell_type": "code",
   "execution_count": null,
   "metadata": {},
   "outputs": [],
   "source": []
  },
  {
   "cell_type": "markdown",
   "metadata": {},
   "source": [
    "# Functional Programming \n",
    "延申閲讀：\n",
    "\n",
    "1. [Wikipedia](https://zh.wikipedia.org/wiki/%E5%87%BD%E6%95%B0%E5%BC%8F%E7%BC%96%E7%A8%8B)\n",
    "2. [ITHome 教學](https://ithelp.ithome.com.tw/articles/10186465)"
   ]
  },
  {
   "cell_type": "code",
   "execution_count": null,
   "metadata": {},
   "outputs": [],
   "source": []
  },
  {
   "cell_type": "markdown",
   "metadata": {},
   "source": [
    "# lambda vs def \n",
    "- 在函數的邏輯比較簡單的狀況下，會讓程式碼簡潔很多\n",
    "- 在處理大量的資料 (通常都是 list / array) 可以讓程式碼簡潔一些\n",
    "- 對於習慣 functional programming 的人來説 (像是 R)，語法比較直覺"
   ]
  },
  {
   "cell_type": "code",
   "execution_count": null,
   "metadata": {},
   "outputs": [],
   "source": []
  },
  {
   "cell_type": "markdown",
   "metadata": {},
   "source": [
    "# 隨堂練習\n",
    "用 lambda 與 map 函數算出所有在 receivables 裡的營業稅\n",
    "```python\n",
    "receivables = [1000, 100, 1000000, 2344550, 543000]\n",
    "taxes = _________________________\n",
    "```"
   ]
  },
  {
   "cell_type": "code",
   "execution_count": null,
   "metadata": {},
   "outputs": [],
   "source": []
  },
  {
   "cell_type": "markdown",
   "metadata": {},
   "source": [
    "# filter 函數\n",
    "\n",
    "若今天你想把一個集合的資料全部都迭代過一次\n",
    "\n",
    "以傳入的boolean function作為條件函式\n",
    "\n",
    "迭代每一個集合的元素，並收集結果為True的元素到一個List"
   ]
  },
  {
   "cell_type": "code",
   "execution_count": null,
   "metadata": {},
   "outputs": [],
   "source": []
  },
  {
   "cell_type": "markdown",
   "metadata": {},
   "source": [
    "# filter 函數\n",
    "```python\n",
    "def greater_than_five(x):\n",
    "    if x > 5:\n",
    "        return True\n",
    "    else:\n",
    "        return False\n",
    "\n",
    "data = [1, 2, 3, 4, 5, 6, 7, 8, 9]\n",
    "result = filter(greater_than_five, data)\n",
    "list(result)\n",
    "# [6, 7, 8, 9]\n",
    "```\n"
   ]
  },
  {
   "cell_type": "code",
   "execution_count": null,
   "metadata": {},
   "outputs": [],
   "source": []
  },
  {
   "cell_type": "markdown",
   "metadata": {},
   "source": [
    "# filter 函數\n",
    "\n",
    "上述的範例也可以改成用 lambda 函數寫：\n",
    "\n",
    "```python\n",
    "data = [1, 2, 3, 4, 5, 6, 7, 8, 9]\n",
    "\n",
    "list(filter(lambda n : n > 5, data))\n",
    "# [6, 7, 8, 9]\n",
    "```"
   ]
  },
  {
   "cell_type": "code",
   "execution_count": null,
   "metadata": {},
   "outputs": [],
   "source": []
  },
  {
   "cell_type": "markdown",
   "metadata": {},
   "source": [
    "# map() vs filter()\n",
    "- map 是算出每一個集合的值 (通常使用的 function 會回傳數值)\n",
    "- filter 是判斷一個集合有哪些值會被保留下來 (通常使用的 function 會回傳布林值)\n"
   ]
  },
  {
   "cell_type": "code",
   "execution_count": null,
   "metadata": {},
   "outputs": [],
   "source": []
  },
  {
   "cell_type": "markdown",
   "metadata": {},
   "source": [
    "# 匿名函數看似很厲害\n",
    "\n",
    "但是對初學者來説並不直覺\n",
    "\n",
    "---\n",
    "# 串列生成式（List Comprehension）\n",
    "\n",
    "今天我們知道上述範例最後計算的結果會是一個串列（需要封裝多筆資料）\n",
    "\n",
    "因此，Python 就提供了串列生成式，允許開發者用簡單的程式碼做出逐元運算\n",
    "\n",
    "---\n",
    "# 串列生成式（List Comprehension）\n",
    "\n",
    "```python\n",
    "[運算式 for 項目 in 可迭代項目]\n",
    "```\n"
   ]
  },
  {
   "cell_type": "code",
   "execution_count": null,
   "metadata": {},
   "outputs": [],
   "source": []
  },
  {
   "cell_type": "markdown",
   "metadata": {},
   "source": [
    "# 串列生成式（List Comprehension）\n",
    "\n",
    "```python\n",
    "km_list = [3, 5, 10, 21, 42.195]\n",
    "km_to_mile = 0.621371192\n",
    "# 將 km_list 的每一筆資料逐個放入 km，在 for 左邊的運算式算出結果之後放入 mile_list\n",
    "mile_list = [km * km_to_mile for km in km_list]\n",
    "print(mile_list)\n",
    "# [1.864113576, 3.10685596, 6.21371192, 13.048795032000001, 26.21875744644]\n",
    "```\n"
   ]
  },
  {
   "cell_type": "code",
   "execution_count": null,
   "metadata": {},
   "outputs": [],
   "source": []
  },
  {
   "cell_type": "markdown",
   "metadata": {},
   "source": [
    "# 串列生成式（List Comprehension）\n",
    "\n",
    "另外，若今天需要做逐元的判斷 / 比較，輸出過濾後的結果：\n",
    "\n",
    "```python\n",
    "even_numbers = []\n",
    "\n",
    "for i in range(1, 11):\n",
    "    if i % 2 == 0:\n",
    "        even_numbers.append(i)\n",
    "\n",
    "print(even_numbers)\n",
    "# [2, 4, 6, 8, 10]\n",
    "```"
   ]
  },
  {
   "cell_type": "code",
   "execution_count": null,
   "metadata": {},
   "outputs": [],
   "source": []
  },
  {
   "cell_type": "markdown",
   "metadata": {},
   "source": [
    "# 串列生成式（List Comprehension）\n",
    "\n",
    "我們可以在串列生成式加上 `if` 判斷式\n",
    "\n",
    "```python\n",
    "even_numbers = [i for i in range(1, 11) if i % 2 == 0]\n",
    "print(even_numbers)\n",
    "# [2, 4, 6, 8, 10]\n",
    "```"
   ]
  },
  {
   "cell_type": "code",
   "execution_count": null,
   "metadata": {},
   "outputs": [],
   "source": []
  },
  {
   "cell_type": "markdown",
   "metadata": {},
   "source": [
    "# list 的問題\n",
    "- Python 的 list 無法使用 element-wise（逐元）運算\n",
    "- 在不引用套件的情況下我們可以使用迴圈來處理\n",
    "\n",
    "```python\n",
    "km_list = [3, 5, 10, 21, 42.195]\n",
    "km_to_mile = 0.621371192\n",
    "mile_list = []\n",
    "\n",
    "for km in km_list:\n",
    "    mile_list.append(km * km_to_mile)\n",
    "\n",
    "print(mile_list)\n",
    "```\n",
    "\n",
    "---\n",
    "# list 的問題\n",
    "當然，我們也可以使用 map() 和 lambda 函數來處理\n",
    "\n",
    "```python\n",
    "km_list = [3, 5, 10, 21, 42.195]\n",
    "mile_list = list(map(lambda x: x * 0.621371192, km_list))\n",
    "print(mile_list)\n",
    "```\n",
    "\n",
    "# 但是這樣似乎沒有簡化，反而把程式碼變得更複雜了..."
   ]
  },
  {
   "cell_type": "code",
   "execution_count": null,
   "metadata": {},
   "outputs": [],
   "source": []
  },
  {
   "cell_type": "markdown",
   "metadata": {},
   "source": [
    "# 這時就跟大家介紹一下 numpy \n",
    "\n",
    "[官網](https://docs.scipy.org/doc/numpy/user/quickstart.html)\n",
    "- 它是 Python 語言在資料科學領域的一個重要模組，主要用於大量資料處理上\n",
    "- 功能强大，語法簡單易懂\n",
    "- Numpy 底層以 C 和 Fortran 語言實作，操作多重維度的陣列**效能極佳**\n",
    "\n",
    "---\n",
    "# import numpy\n",
    "\n",
    "```python\n",
    "import numpy as np\n",
    "```"
   ]
  },
  {
   "cell_type": "code",
   "execution_count": null,
   "metadata": {},
   "outputs": [],
   "source": []
  },
  {
   "cell_type": "markdown",
   "metadata": {},
   "source": [
    "# numpy 牛刀小試\n",
    "\n",
    "```python\n",
    "km_list = [3, 5, 10, 21, 42.195]\n",
    "# 將一個串列轉換成一個 numpy array\n",
    "km_array = np.array(km_list)\n",
    "print(type(km_array))\n",
    "# numpy.ndarray\n",
    "```"
   ]
  },
  {
   "cell_type": "code",
   "execution_count": null,
   "metadata": {},
   "outputs": [],
   "source": []
  },
  {
   "cell_type": "markdown",
   "metadata": {},
   "source": [
    "# numpy 牛刀小試\n",
    "\n",
    "```python\n",
    "km_list = [3, 5, 10, 21, 42.195]\n",
    "km_array = np.array(km_list)\n",
    "km_to_mile = 0.621371192\n",
    "mile_array = km_array * km_to_mile\n",
    "print(mile_array)\n",
    "# [ 1.86411358  3.10685596  6.21371192 13.04879503 26.21875745]\n",
    "```"
   ]
  },
  {
   "cell_type": "code",
   "execution_count": null,
   "metadata": {},
   "outputs": [],
   "source": []
  },
  {
   "cell_type": "markdown",
   "metadata": {},
   "source": [
    "# numpy.arange() 方法\n",
    "\n",
    "功能與 `range()` 函數相同，宣告一個數字的範圍\n",
    "\n",
    "```python\n",
    "import numpy as np\n",
    "\n",
    "arr1 = np.arange(10)\n",
    "print(arr1)\n",
    "arr2 = np.arange(1, 10)\n",
    "print(arr2)\n",
    "arr3 = np.arange(1, 10, 2)\n",
    "print(arr3)\n",
    "# [0 1 2 3 4 5 6 7 8 9]\n",
    "# [1 2 3 4 5 6 7 8 9]\n",
    "# [1 3 5 7 9]\n",
    "```\n"
   ]
  },
  {
   "cell_type": "code",
   "execution_count": null,
   "metadata": {},
   "outputs": [],
   "source": []
  },
  {
   "cell_type": "markdown",
   "metadata": {},
   "source": [
    "# 提取單筆資料\n",
    "\n",
    "語法與 Python 串列一樣，透過指定索引值\n",
    "\n",
    "```python\n",
    "arr = np.array([1,2,3])\n",
    "arr[0]\n",
    "# 1\n",
    "```"
   ]
  },
  {
   "cell_type": "code",
   "execution_count": null,
   "metadata": {},
   "outputs": [],
   "source": []
  },
  {
   "cell_type": "markdown",
   "metadata": {},
   "source": [
    "# 切片（Slicing）\n",
    "\n",
    "```python\n",
    "arr1 = np.arange(0, 10)\n",
    "print(arr1)\n",
    "# array([0, 1, 2, 3, 4, 5, 6, 7, 8, 9])\n",
    "arr1[1:3]\n",
    "# array([1, 2])\n",
    "```"
   ]
  },
  {
   "cell_type": "code",
   "execution_count": null,
   "metadata": {},
   "outputs": [],
   "source": []
  },
  {
   "cell_type": "markdown",
   "metadata": {},
   "source": [
    "# 切片（Slicing）\n",
    "\n",
    "```python\n",
    "arr1 = np.arange(0, 10)\n",
    "print(arr1)\n",
    "# array([0, 1, 2, 3, 4, 5, 6, 7, 8, 9])\n",
    "arr1[5:]\n",
    "# array([5, 6, 7, 8, 9])\n",
    "```"
   ]
  },
  {
   "cell_type": "code",
   "execution_count": null,
   "metadata": {},
   "outputs": [],
   "source": []
  },
  {
   "cell_type": "markdown",
   "metadata": {},
   "source": [
    "# 切片（Slicing）\n",
    "\n",
    "```python\n",
    "arr1 = np.arange(0, 10)\n",
    "arr1[:5]\n",
    "# array([0, 1, 2, 3, 4])\n",
    "```\n"
   ]
  },
  {
   "cell_type": "code",
   "execution_count": null,
   "metadata": {},
   "outputs": [],
   "source": []
  },
  {
   "cell_type": "markdown",
   "metadata": {},
   "source": [
    "# numpy 更新資料功能\n",
    "\n",
    "```python\n",
    "arr1 = np.arange(0, 10)\n",
    "arr1[2] = 8\n",
    "print(arr1)\n",
    "# array([0, 1, 8, 3, 4, 5, 6, 7, 8, 9])\n",
    "```\n"
   ]
  },
  {
   "cell_type": "code",
   "execution_count": null,
   "metadata": {},
   "outputs": [],
   "source": []
  },
  {
   "cell_type": "markdown",
   "metadata": {},
   "source": [
    "# numpy 刪除資料功能\n",
    "\n",
    "```python\n",
    "arr1 = np.arange(0, 10)\n",
    "print(np.delete(arr1, 1))\n",
    "# array([0, 2, 3, 4, 5, 6, 7, 8, 9])\n",
    "```"
   ]
  },
  {
   "cell_type": "code",
   "execution_count": null,
   "metadata": {},
   "outputs": [],
   "source": []
  },
  {
   "cell_type": "markdown",
   "metadata": {},
   "source": [
    "# numpy 刪除資料功能\n",
    "\n",
    "```python\n",
    "arr1 = np.arange(0, 10)\n",
    "print(np.delete(arr1, slice(0, 5)))\n",
    "# array([5, 6, 7, 8, 9])\n",
    "```"
   ]
  },
  {
   "cell_type": "code",
   "execution_count": null,
   "metadata": {},
   "outputs": [],
   "source": []
  },
  {
   "cell_type": "markdown",
   "metadata": {},
   "source": [
    "# ndArray 與 ndArray 的運算\n",
    "\n",
    "```python\n",
    "arr2 = np.arange(5)\n",
    "# array([0, 1, 2, 3, 4])\n",
    "arr3 = np.arange(2, 12, 2)\n",
    "# array([1., 2., 3., 4., 5.])\n",
    "```"
   ]
  },
  {
   "cell_type": "code",
   "execution_count": null,
   "metadata": {},
   "outputs": [],
   "source": []
  },
  {
   "cell_type": "markdown",
   "metadata": {},
   "source": [
    "# ndArray 與 ndArray 的運算\n",
    "\n",
    "```python\n",
    "arr3 / 2\n",
    "# array([1., 2., 3., 4., 5.])\n",
    "```"
   ]
  },
  {
   "cell_type": "code",
   "execution_count": null,
   "metadata": {},
   "outputs": [],
   "source": []
  },
  {
   "cell_type": "markdown",
   "metadata": {},
   "source": [
    "# ndArray 與 ndArray 的運算\n",
    "\n",
    "```python\n",
    "arr2 + arr3\n",
    "# array([ 2,  5,  8, 11, 14])\n",
    "```"
   ]
  },
  {
   "cell_type": "code",
   "execution_count": null,
   "metadata": {},
   "outputs": [],
   "source": []
  },
  {
   "cell_type": "markdown",
   "metadata": {},
   "source": [
    "# ndArray 與 ndArray 的運算\n",
    "\n",
    "```python\n",
    "arr2 - arr3\n",
    "# array([-2, -3, -4, -5, -6])\n",
    "```"
   ]
  },
  {
   "cell_type": "code",
   "execution_count": null,
   "metadata": {},
   "outputs": [],
   "source": []
  },
  {
   "cell_type": "markdown",
   "metadata": {},
   "source": [
    "# ndArray 與 ndArray 的運算\n",
    "\n",
    "```python\n",
    "arr2 * arr3\n",
    "# array([ 0,  4, 12, 24, 40])\n",
    "```"
   ]
  },
  {
   "cell_type": "code",
   "execution_count": null,
   "metadata": {},
   "outputs": [],
   "source": []
  },
  {
   "cell_type": "markdown",
   "metadata": {},
   "source": [
    "# ndArray 與 ndArray 的運算\n",
    "\n",
    "```python\n",
    "arr2 / arr3\n",
    "# array([0.        , 0.25      , 0.33333333, 0.375     , 0.4       ])\n",
    "```\n"
   ]
  },
  {
   "cell_type": "code",
   "execution_count": null,
   "metadata": {},
   "outputs": [],
   "source": []
  },
  {
   "cell_type": "markdown",
   "metadata": {},
   "source": [
    "# 隨堂練習\n",
    "\n",
    "- 請用 numpy 練習計算這五個人的 BMI\n",
    "- 回傳的多筆 bmi 值必須是一個陣列\n",
    "```python\n",
    "heights = [173, 168, 171, 189, 179]\n",
    "weights = [65.4, 59.2, 63.6, 88.4, 68.7]\n",
    "```"
   ]
  },
  {
   "cell_type": "code",
   "execution_count": null,
   "metadata": {},
   "outputs": [],
   "source": []
  },
  {
   "cell_type": "markdown",
   "metadata": {},
   "source": [
    "# 多維串列\n",
    "\n",
    "若今天我們想透過 Python 的資料結構表達一個矩陣（Matrix）\n",
    "\n",
    "這就有一點麻煩了，因爲矩陣的資料是有序的，但是矩陣多半不會只有一個維度，用 Python 的串列表示，肯定不夠\n",
    "\n",
    "---\n",
    "# 多維串列\n",
    "\n",
    "Python 可以在一個串列内放入一個或多個串列：\n",
    "\n",
    "```python\n",
    "matrx = [[1, 2, 3, 4],[5, 6, 7, 8],[9, 10, 11, 12]]\n",
    "```\n"
   ]
  },
  {
   "cell_type": "code",
   "execution_count": null,
   "metadata": {},
   "outputs": [],
   "source": []
  },
  {
   "cell_type": "markdown",
   "metadata": {},
   "source": [
    "# 多維串列\n",
    "\n",
    "把它展開來看:\n",
    "\n",
    "```python\n",
    "matrx = [\n",
    "            [1, 2, 3, 4],\n",
    "            [5, 6, 7, 8],\n",
    "            [9, 10, 11, 12]\n",
    "        ]\n",
    "```\n",
    "\n",
    "就會發現這種巢狀串列很適合用來表達像矩陣的多維資料\n"
   ]
  },
  {
   "cell_type": "code",
   "execution_count": null,
   "metadata": {},
   "outputs": [],
   "source": []
  },
  {
   "cell_type": "markdown",
   "metadata": {},
   "source": [
    "# 多維串列\n",
    "\n",
    "一般我們在表達多維串列大小的方式，與表達矩陣大小的方式是一樣的，下面的範例程式碼就是一個 3 x 4 的多維串列\n",
    "\n",
    "```python\n",
    "matrx = [\n",
    "            [1, 2, 3, 4],\n",
    "            [5, 6, 7, 8],\n",
    "            [9, 10, 11, 12]\n",
    "        ]\n",
    "```\n"
   ]
  },
  {
   "cell_type": "code",
   "execution_count": null,
   "metadata": {},
   "outputs": [],
   "source": []
  },
  {
   "cell_type": "markdown",
   "metadata": {},
   "source": [
    "# 提取多維串列的資料\n",
    "\n",
    "今天若需要讀取多維串列内的值\n",
    "\n",
    "```python\n",
    "matrx[第一維的索引值, 第二維的索引值]\n",
    "```"
   ]
  },
  {
   "cell_type": "code",
   "execution_count": null,
   "metadata": {},
   "outputs": [],
   "source": []
  },
  {
   "cell_type": "markdown",
   "metadata": {},
   "source": [
    "# 提取多維串列串列的資料\n",
    "\n",
    "今天若需要讀取多維串列内的值\n",
    "\n",
    "```python\n",
    "matrx[0]\n",
    "# [1, 2, 3, 4]\n",
    "\n",
    "matrx[0][3]\n",
    "# 4\n",
    "```\n"
   ]
  },
  {
   "cell_type": "code",
   "execution_count": null,
   "metadata": {},
   "outputs": [],
   "source": []
  },
  {
   "cell_type": "markdown",
   "metadata": {},
   "source": [
    "# Nested Loop （巢狀迴圈）\n",
    "\n",
    "若要將多維串列内的每一個元素都遍歷一次，可以用巢狀迴圈，也就是在迴圈内再寫一個迴圈\n",
    "\n",
    "```python\n",
    "for i in range(0, 3):\n",
    "    for j in range(0, 4):\n",
    "        print(matrx[i][j])\n",
    "```"
   ]
  },
  {
   "cell_type": "code",
   "execution_count": null,
   "metadata": {},
   "outputs": [],
   "source": []
  },
  {
   "cell_type": "markdown",
   "metadata": {},
   "source": [
    "# np 對多維串列的支援\n",
    "\n",
    "```python\n",
    "arr = np.arange(12)\n",
    "arr\n",
    "# array([0, 1, 2, 3, 4, 5, 6, 7, 8, 9, 10, 11, 12])\n",
    "```\n"
   ]
  },
  {
   "cell_type": "code",
   "execution_count": null,
   "metadata": {},
   "outputs": [],
   "source": []
  },
  {
   "cell_type": "markdown",
   "metadata": {},
   "source": [
    "# np.reshape()\n",
    "\n",
    "改變一個 ndArray 的形狀\n",
    "\n",
    "```python\n",
    "arr.reshape(4,3)\n",
    "\n",
    "# array([[ 0,  1,  2],\n",
    "#        [ 3,  4,  5],\n",
    "#        [ 6,  7,  8],\n",
    "#        [ 9, 10, 11]])\n",
    "```\n"
   ]
  },
  {
   "cell_type": "code",
   "execution_count": null,
   "metadata": {},
   "outputs": [],
   "source": []
  },
  {
   "cell_type": "markdown",
   "metadata": {},
   "source": [
    "# Nested Loop （巢狀迴圈）\n",
    "\n",
    "若要將多維串列内的每一個元素都遍歷一次，可以用巢狀迴圈，也就是在迴圈内再寫一個迴圈\n",
    "\n",
    "```python\n",
    "for i in range(0, 3):\n",
    "    for j in range(0, 4):\n",
    "        print(matrx[i][j])\n",
    "```"
   ]
  },
  {
   "cell_type": "code",
   "execution_count": null,
   "metadata": {},
   "outputs": [],
   "source": []
  },
  {
   "cell_type": "markdown",
   "metadata": {},
   "source": [
    "# np 對多維串列的支援\n",
    "\n",
    "```python\n",
    "arr = np.arange(12)\n",
    "arr\n",
    "# array([0, 1, 2, 3, 4, 5, 6, 7, 8, 9, 10, 11, 12])\n",
    "```\n",
    "\n"
   ]
  },
  {
   "cell_type": "code",
   "execution_count": null,
   "metadata": {},
   "outputs": [],
   "source": []
  },
  {
   "cell_type": "markdown",
   "metadata": {},
   "source": [
    "# np.reshape()\n",
    "\n",
    "改變一個 ndArray 的形狀\n",
    "\n",
    "```python\n",
    "arr.reshape(4,3)\n",
    "\n",
    "# array([[ 0,  1,  2],\n",
    "#        [ 3,  4,  5],\n",
    "#        [ 6,  7,  8],\n",
    "#        [ 9, 10, 11]])\n",
    "```"
   ]
  },
  {
   "cell_type": "code",
   "execution_count": null,
   "metadata": {},
   "outputs": [],
   "source": []
  },
  {
   "cell_type": "markdown",
   "metadata": {},
   "source": [
    "# np.shape\n",
    "\n",
    "檢查一個 ndArray 的大小\n",
    "\n",
    "```python\n",
    "arr1 = arr.reshape(4,3)\n",
    "arr1.shape\n",
    "# (4, 3)\n",
    "```"
   ]
  },
  {
   "cell_type": "code",
   "execution_count": null,
   "metadata": {},
   "outputs": [],
   "source": []
  },
  {
   "cell_type": "markdown",
   "metadata": {},
   "source": [
    "# 多維 ndArray 的切片\n",
    "\n",
    "```python\n",
    "arr1[:2]\n",
    "# array([[0, 1, 2],\n",
    "#        [3, 4, 5]])\n",
    "```\n"
   ]
  },
  {
   "cell_type": "code",
   "execution_count": null,
   "metadata": {},
   "outputs": [],
   "source": []
  },
  {
   "cell_type": "markdown",
   "metadata": {},
   "source": [
    "# 多維 ndArray 的切片\n",
    "\n",
    "```python\n",
    "arr1[:2]\n",
    "# array([[0, 1, 2],\n",
    "#        [3, 4, 5]])\n",
    "```"
   ]
  },
  {
   "cell_type": "code",
   "execution_count": null,
   "metadata": {},
   "outputs": [],
   "source": []
  },
  {
   "cell_type": "markdown",
   "metadata": {},
   "source": [
    "# 多維 ndArray 的切片\n",
    "\n",
    "```python\n",
    "arr4[2:]\n",
    "# array([[ 6,  7,  8],\n",
    "#        [ 9, 10, 11]])\n",
    "```"
   ]
  },
  {
   "cell_type": "code",
   "execution_count": null,
   "metadata": {},
   "outputs": [],
   "source": []
  },
  {
   "cell_type": "markdown",
   "metadata": {},
   "source": [
    "# 多維 ndArray 的切片\n",
    "\n",
    "```python\n",
    "arr4[2:,1:]\n",
    "# array([[ 7,  8],\n",
    "#        [10, 11]])\n",
    "```"
   ]
  },
  {
   "cell_type": "code",
   "execution_count": null,
   "metadata": {},
   "outputs": [],
   "source": []
  },
  {
   "cell_type": "markdown",
   "metadata": {},
   "source": [
    "# np.zeros\n",
    "\n",
    "```python\n",
    "np.zeros((3,2))\n",
    "# array([[0., 0.],\n",
    "#        [0., 0.],\n",
    "#        [0., 0.]])\n",
    "```"
   ]
  },
  {
   "cell_type": "code",
   "execution_count": null,
   "metadata": {},
   "outputs": [],
   "source": []
  },
  {
   "cell_type": "markdown",
   "metadata": {},
   "source": [
    "# np.ones\n",
    "\n",
    "```python\n",
    "np.ones((3,4))\n",
    "# array([[1., 1., 1., 1.],\n",
    "#        [1., 1., 1., 1.],\n",
    "#        [1., 1., 1., 1.]])\n",
    "```"
   ]
  },
  {
   "cell_type": "code",
   "execution_count": null,
   "metadata": {},
   "outputs": [],
   "source": []
  },
  {
   "cell_type": "markdown",
   "metadata": {},
   "source": [
    "# 補充\n",
    "\n",
    "有興趣的可以參考到 Numpy 的官方文件做進一步的學習。\n",
    "\n",
    "官方教學：[https://docs.scipy.org/doc/numpy/user/quickstart.html](https://docs.scipy.org/doc/numpy/user/quickstart.html)\n",
    "\n",
    "Github 專案：[https://github.com/numpy/numpy](https://github.com/numpy/numpy)\n",
    "\n"
   ]
  },
  {
   "cell_type": "code",
   "execution_count": null,
   "metadata": {},
   "outputs": [],
   "source": []
  },
  {
   "cell_type": "markdown",
   "metadata": {},
   "source": [
    "# 資料科學套件\n",
    "\n",
    "\n",
    "# Pandas\n",
    "\n",
    "提供靈活直觀的資料結構來處理關聯數據和有標籤的數據\n",
    "\n",
    "---\n",
    "# Pandas\n",
    "\n",
    "| 名稱 | 描述 |\n",
    "|:--:|:------:|\n",
    "| Series | 可以建立索引的一維陣列       |\n",
    "| DataFrame | 有列索引與欄標籤的二維資料集 |\n",
    "| Panel | 有資料集索引、列索引與欄標籤的三維資料集 |\n",
    "\n",
    "---\n",
    "# Pandas\n",
    "```python\n",
    "import pandas as pd\n",
    "```\n",
    "\n",
    "---"
   ]
  },
  {
   "cell_type": "code",
   "execution_count": null,
   "metadata": {},
   "outputs": [],
   "source": [
    "import pandas as pd"
   ]
  },
  {
   "cell_type": "markdown",
   "metadata": {},
   "source": [
    "# Series\n",
    "簡單來說，是一個表示單一維度資料的容器\n",
    "\n",
    "由**標籤(Index)**與**值(Values)**組成\n"
   ]
  },
  {
   "cell_type": "code",
   "execution_count": null,
   "metadata": {},
   "outputs": [],
   "source": []
  },
  {
   "cell_type": "markdown",
   "metadata": {},
   "source": [
    "# 建立 Series\n",
    "\n",
    "建立一個新的，沒有任何資料的 Series 物件\n",
    "\n",
    "```python\n",
    "pd.Series()\n",
    "# Series([], dtype: float64)\n",
    "```"
   ]
  },
  {
   "cell_type": "code",
   "execution_count": null,
   "metadata": {},
   "outputs": [],
   "source": []
  },
  {
   "cell_type": "markdown",
   "metadata": {},
   "source": [
    "# 建立 Series\n",
    "```python\n",
    "ser1 = pd.Series([1,2,3,4,5], index=['a', 'b', 'c', 'd', 'e'])\n",
    "ser1\n",
    "print(ser1)\n",
    "```"
   ]
  },
  {
   "cell_type": "code",
   "execution_count": null,
   "metadata": {},
   "outputs": [],
   "source": []
  },
  {
   "cell_type": "markdown",
   "metadata": {},
   "source": [
    "# 建立 Series\n",
    "Series 的值都是被存在一個**numpy array**中\n",
    "\n",
    "```python\n",
    "ser1.values\n",
    "# array([1, 2, 3, 4, 5], dtype=int64)\n",
    "```"
   ]
  },
  {
   "cell_type": "code",
   "execution_count": null,
   "metadata": {},
   "outputs": [],
   "source": []
  },
  {
   "cell_type": "markdown",
   "metadata": {},
   "source": [
    "# Series\n",
    "Series 的標籤都是被存在一個**numpy Index**物件中\n",
    "\n",
    "```python\n",
    "ser1.index\n",
    "# Index(['a', 'b', 'c', 'd', 'e'], dtype='object')\n",
    "```"
   ]
  },
  {
   "cell_type": "code",
   "execution_count": null,
   "metadata": {},
   "outputs": [],
   "source": []
  },
  {
   "cell_type": "markdown",
   "metadata": {},
   "source": [
    "# Series\n",
    "Series 的標籤都是被存在一個**numpy Index**物件中\n",
    "\n",
    "```python\n",
    "ser1.index\n",
    "# Index(['a', 'b', 'c', 'd', 'e'], dtype='object')\n",
    "```"
   ]
  },
  {
   "cell_type": "code",
   "execution_count": null,
   "metadata": {},
   "outputs": [],
   "source": []
  },
  {
   "cell_type": "markdown",
   "metadata": {},
   "source": [
    "# Series\n",
    "Sereies 物件看起來像是由兩行數據組成，實則是一維數據結構\n",
    "\n",
    "---\n",
    "# 提取 Series 内的資料\n",
    "\n",
    "可以透過指定標籤\n",
    "```python\n",
    "ser1['c']\n",
    "```"
   ]
  },
  {
   "cell_type": "code",
   "execution_count": null,
   "metadata": {},
   "outputs": [],
   "source": []
  },
  {
   "cell_type": "markdown",
   "metadata": {},
   "source": [
    "# 提取 Series 内的資料\n",
    "\n",
    "提取多筆資料可以透過指定多個標籤\n",
    "```python\n",
    "ser1[['a', 'c', 'e']]\n",
    "```"
   ]
  },
  {
   "cell_type": "code",
   "execution_count": null,
   "metadata": {},
   "outputs": [],
   "source": []
  },
  {
   "cell_type": "markdown",
   "metadata": {},
   "source": [
    "# 提取 Series 内的資料\n",
    "另外，提取資料也可以透過指定數字的索引值\n",
    "```python\n",
    "ser1[2]\n",
    "```"
   ]
  },
  {
   "cell_type": "code",
   "execution_count": null,
   "metadata": {},
   "outputs": [],
   "source": []
  },
  {
   "cell_type": "markdown",
   "metadata": {},
   "source": [
    "# 提取 Series 内的資料\n",
    "提取多筆資料也可以透過指定多筆數字的索引值\n",
    "```python\n",
    "ser1[[0, 2, 4]]\n",
    "```"
   ]
  },
  {
   "cell_type": "code",
   "execution_count": null,
   "metadata": {},
   "outputs": [],
   "source": []
  },
  {
   "cell_type": "markdown",
   "metadata": {},
   "source": [
    "# Series 更新現有的值\n",
    "```python\n",
    "ser1['a'] = 8  \n",
    "print(ser1)\n",
    "```"
   ]
  },
  {
   "cell_type": "code",
   "execution_count": null,
   "metadata": {},
   "outputs": [],
   "source": []
  },
  {
   "cell_type": "markdown",
   "metadata": {},
   "source": [
    "# Series 更新多筆值\n",
    "```python\n",
    "ser1.update(pd.Series([9, 10, 11], index=['b', 'c', 'd']))\n",
    "print(ser1)\n",
    "```"
   ]
  },
  {
   "cell_type": "code",
   "execution_count": null,
   "metadata": {},
   "outputs": [],
   "source": []
  },
  {
   "cell_type": "markdown",
   "metadata": {},
   "source": [
    "# 刪除 Series 内的資料\n",
    "\n",
    "```python\n",
    "ser1.drop(labels='a')\n",
    "```"
   ]
  },
  {
   "cell_type": "code",
   "execution_count": null,
   "metadata": {},
   "outputs": [],
   "source": []
  },
  {
   "cell_type": "markdown",
   "metadata": {},
   "source": [
    "# 刪除多筆 Series 内的資料\n",
    "\n",
    "```python\n",
    "ser1.drop(labels=['b', 'c', 'd'])\n",
    "```\n"
   ]
  },
  {
   "cell_type": "code",
   "execution_count": null,
   "metadata": {},
   "outputs": [],
   "source": []
  },
  {
   "cell_type": "markdown",
   "metadata": {},
   "source": [
    "# 透過 dict 宣告 Series\n",
    "\n",
    "```python\n",
    "# series 每一個 index 都會對映到一個 value \n",
    "data = {\n",
    "    'a': 1,\n",
    "    'b': 3,\n",
    "    'c': 5,\n",
    "    'd': 7,\n",
    "    'e': 9\n",
    "}\n",
    "\n",
    "pd.Series(data)\n",
    "```"
   ]
  },
  {
   "cell_type": "code",
   "execution_count": null,
   "metadata": {},
   "outputs": [],
   "source": []
  },
  {
   "cell_type": "markdown",
   "metadata": {},
   "source": [
    "# 所以...\n",
    "\n",
    "- Series 可以被看作是一個**有序的字典 (dict)**\n",
    "\n",
    "---\n",
    "# 若放入一個陣列...\n",
    "沒有另外指定 index，Series 會將該陣列當成值\n",
    "\n",
    "Series 預設的 index 與一般陣列相同\n",
    "\n",
    "```python\n",
    "# 僅指定 value\n",
    "pd.Series([2, 4, 6, 8, 10])\n",
    "```"
   ]
  },
  {
   "cell_type": "code",
   "execution_count": null,
   "metadata": {},
   "outputs": [],
   "source": []
  },
  {
   "cell_type": "markdown",
   "metadata": {},
   "source": [
    "# 與 Numpy 的整合\n",
    "\n",
    "```python\n",
    "import numpy as np\n",
    "\n",
    "pd.Series(np.arange(5))\n",
    "```"
   ]
  },
  {
   "cell_type": "code",
   "execution_count": null,
   "metadata": {},
   "outputs": [],
   "source": []
  },
  {
   "cell_type": "markdown",
   "metadata": {},
   "source": [
    "# 與 Numpy 的整合\n",
    "\n",
    "```python\n",
    "even_num = np.arange(2, 11, 2)\n",
    "\n",
    "pd.Series(even_num)\n",
    "```"
   ]
  },
  {
   "cell_type": "code",
   "execution_count": null,
   "metadata": {},
   "outputs": [],
   "source": []
  },
  {
   "cell_type": "markdown",
   "metadata": {},
   "source": [
    "# 產生亂數 Series\n",
    "\n",
    "```python\n",
    "import numpy as np\n",
    "rand_array = np.random.rand(10)\n",
    "pd.Series(rand_array)\n",
    "```\n",
    "或是\n",
    "```python\n",
    "pd.Series(np.random.rand(5))\n",
    "```"
   ]
  },
  {
   "cell_type": "code",
   "execution_count": null,
   "metadata": {},
   "outputs": [],
   "source": []
  },
  {
   "cell_type": "markdown",
   "metadata": {},
   "source": [
    "# Series 切片\n",
    "\n",
    "用法如同 python 原廠的 List，**不包含結束點自己**\n",
    "\n",
    "```python\n",
    "ser2 = pd.Series(np.arange(7), index=['a', 'b', 'c', 'd', 'e', 'f', 'g'])\n",
    "\n",
    "ser2[1:4]\n",
    "```\n"
   ]
  },
  {
   "cell_type": "code",
   "execution_count": null,
   "metadata": {},
   "outputs": [],
   "source": []
  },
  {
   "cell_type": "markdown",
   "metadata": {},
   "source": [
    "# Series 切片\n",
    "\n",
    "```python\n",
    "ser2 = pd.Series(np.arange(7), index=['a', 'b', 'c', 'd', 'e', 'f', 'g'])\n",
    "\n",
    "print(ser2[:3])\n",
    "print(ser2[3:])\n",
    "```"
   ]
  },
  {
   "cell_type": "code",
   "execution_count": null,
   "metadata": {},
   "outputs": [],
   "source": []
  },
  {
   "cell_type": "markdown",
   "metadata": {},
   "source": [
    "# head(), tail(), take()\n",
    "\n",
    "```python\n",
    "# 用 head 查詢前五筆資料\n",
    "ser2.head()\n",
    "\n",
    "# 用 tail 查詢後三筆資料\n",
    "ser2.tail(3)\n",
    "\n",
    "# 用 take 指定查詢索引值為 2, 4, 0 的資料\n",
    "ser2.take([1, 6, 5])\n",
    "```\n"
   ]
  },
  {
   "cell_type": "code",
   "execution_count": null,
   "metadata": {},
   "outputs": [],
   "source": []
  },
  {
   "cell_type": "markdown",
   "metadata": {},
   "source": [
    "# 另外，我們也可透過標籤來切片\n",
    "\n",
    "和用索引值切片不一樣的是，**用 key 切片會包含結束點自己** (也就是 key 所對應的值\n",
    "```python\n",
    "ser2['a':'c']\n",
    "```"
   ]
  },
  {
   "cell_type": "code",
   "execution_count": null,
   "metadata": {},
   "outputs": [],
   "source": []
  },
  {
   "cell_type": "markdown",
   "metadata": {},
   "source": [
    "# 另外，我們也可透過標籤來切片\n",
    "\n",
    "```python\n",
    "ser2[:'c']\n",
    "```"
   ]
  },
  {
   "cell_type": "code",
   "execution_count": null,
   "metadata": {},
   "outputs": [],
   "source": []
  },
  {
   "cell_type": "markdown",
   "metadata": {},
   "source": [
    "# 另外，我們也可透過標籤來切片\n",
    "\n",
    "```python\n",
    "ser2['c':]\n",
    "```"
   ]
  },
  {
   "cell_type": "code",
   "execution_count": null,
   "metadata": {},
   "outputs": [],
   "source": []
  },
  {
   "cell_type": "markdown",
   "metadata": {},
   "source": [
    "# Series.isin\n",
    "\n",
    "檢查輸入的資料是否在 series 裡面\n",
    "```python\n",
    "ser2.isin([3, 5])\n",
    "```"
   ]
  },
  {
   "cell_type": "code",
   "execution_count": null,
   "metadata": {},
   "outputs": [],
   "source": []
  },
  {
   "cell_type": "markdown",
   "metadata": {},
   "source": [
    "# Series 的逐元運算\n",
    "\n",
    "```python\n",
    "ser2 * 2\n",
    "```"
   ]
  },
  {
   "cell_type": "code",
   "execution_count": null,
   "metadata": {},
   "outputs": [],
   "source": []
  },
  {
   "cell_type": "markdown",
   "metadata": {},
   "source": [
    "# Series 的逐元運算\n",
    "\n",
    "```python\n",
    "ser2 > 3\n",
    "```"
   ]
  },
  {
   "cell_type": "code",
   "execution_count": null,
   "metadata": {},
   "outputs": [],
   "source": []
  },
  {
   "cell_type": "markdown",
   "metadata": {},
   "source": [
    "# Series 的逐元運算\n",
    "\n",
    "```python\n",
    "ser2[ser2 > 3]\n",
    "```"
   ]
  },
  {
   "cell_type": "code",
   "execution_count": null,
   "metadata": {},
   "outputs": [],
   "source": []
  },
  {
   "cell_type": "markdown",
   "metadata": {},
   "source": [
    "# 用 key 擷取資料\n",
    "\n",
    "```python\n",
    "s1[['c', 'e', 'a']]\n",
    "```"
   ]
  },
  {
   "cell_type": "code",
   "execution_count": null,
   "metadata": {},
   "outputs": [],
   "source": []
  },
  {
   "cell_type": "markdown",
   "metadata": {},
   "source": [
    "# 切片\n",
    "用法如同 python 原廠的 List，不包含結束點自己\n",
    "\n",
    "```python\n",
    "s1[:3]\n",
    "```"
   ]
  },
  {
   "cell_type": "code",
   "execution_count": null,
   "metadata": {},
   "outputs": [],
   "source": []
  },
  {
   "cell_type": "markdown",
   "metadata": {},
   "source": [
    "# series 的 element-wise 運算\n",
    "\n",
    "```python\n",
    "avengers = {\n",
    "    \"ironman\": 46,\n",
    "    \"captainamerica\": 99,\n",
    "    \"blackwidow\": 37,\n",
    "    \"thor\": 430,\n",
    "    \"hulk\": 42,\n",
    "    \"spiderman\": 15,\n",
    "    \"blackpanther\": 39\n",
    "}\n",
    "\n",
    "ser_age = pd.Series(avengers, index = avengers.keys())\n",
    "print(ser_age)\n",
    "```"
   ]
  },
  {
   "cell_type": "code",
   "execution_count": null,
   "metadata": {},
   "outputs": [],
   "source": []
  },
  {
   "cell_type": "markdown",
   "metadata": {},
   "source": [
    "# series 的 element-wise 運算\n",
    "\n",
    "把每一位超級英雄的歲數減 2：\n",
    "\n",
    "```python\n",
    "ser_age - 2\n",
    "```"
   ]
  },
  {
   "cell_type": "code",
   "execution_count": null,
   "metadata": {},
   "outputs": [],
   "source": []
  },
  {
   "cell_type": "markdown",
   "metadata": {},
   "source": [
    "# DataFrame\n",
    "- 表格型資料結構 (可以想像成一個虛擬的 Excel 試算表)\n",
    "- 實際上是由多個 Series 組合起來的資料結構\n",
    "- 適用於二維的資料\n",
    "\n",
    "---\n",
    "# DataFrame\n",
    "\n",
    "```python\n",
    "import pandas as pd\n",
    "\n",
    "avengers = {\n",
    "    \"name\": [\"ironman\",\"captainamerica\",\"blackwidow\",\"thor\",\"hulk\",\"spiderman\", \"blackpanther\"],\n",
    "    \"age\": [48, 100, 33, 430, 48, 15, 39],\n",
    "    \"superpower\": [False, True, False, True, True, True, False]\n",
    "}\n",
    "\n",
    "df = pd.DataFrame(avengers)\n",
    "print(type(df))\n",
    "print(df.info)\n",
    "```"
   ]
  },
  {
   "cell_type": "code",
   "execution_count": null,
   "metadata": {},
   "outputs": [],
   "source": []
  },
  {
   "cell_type": "markdown",
   "metadata": {},
   "source": [
    "# describe()\n",
    "計算 \n",
    "```python\n",
    "df.describe()\n",
    "```\n"
   ]
  },
  {
   "cell_type": "code",
   "execution_count": null,
   "metadata": {},
   "outputs": [],
   "source": []
  },
  {
   "cell_type": "markdown",
   "metadata": {},
   "source": [
    "# DataFrame\n",
    "\n",
    "```python\n",
    "df = pd.DataFrame(avengers, columns = [\"name\", \"age\", \"superpower\"]) # 指定欄標籤排序\n",
    "```"
   ]
  },
  {
   "cell_type": "code",
   "execution_count": null,
   "metadata": {},
   "outputs": [],
   "source": []
  },
  {
   "cell_type": "markdown",
   "metadata": {},
   "source": [
    "# head(), tail()\n",
    "```python\n",
    "# 找出最前面的5筆資料\n",
    "df.head()\n",
    "\n",
    "# 找出最前面的3筆資料\n",
    "df.head(3)\n",
    "\n",
    "# 找出最後面的5筆資料\n",
    "df.tail()\n",
    "\n",
    "# 找出最後面的3筆資料\n",
    "df.tail(3)\n",
    "```"
   ]
  },
  {
   "cell_type": "code",
   "execution_count": null,
   "metadata": {},
   "outputs": [],
   "source": []
  },
  {
   "cell_type": "markdown",
   "metadata": {},
   "source": [
    "# 新增一欄資料\n",
    "\n",
    "```python\n",
    "# 可以用現有欄的資料算出\n",
    "df['age_2_yr_ago'] = df['age'] - 2\n",
    "```"
   ]
  },
  {
   "cell_type": "code",
   "execution_count": null,
   "metadata": {},
   "outputs": [],
   "source": []
  },
  {
   "cell_type": "markdown",
   "metadata": {},
   "source": [
    "# 新增一欄資料\n",
    "\n",
    "```python\n",
    "# 直接用 List 指定\n",
    "df['weapon'] = [\"armor\", \"shield\", \"taser\", \"hammer\", \"himself\", \"web\", \"claws\"]\n",
    "```"
   ]
  },
  {
   "cell_type": "code",
   "execution_count": null,
   "metadata": {},
   "outputs": [],
   "source": []
  },
  {
   "cell_type": "markdown",
   "metadata": {},
   "source": [
    "# 若要把其中一欄的資料讀取出來\n",
    "\n",
    "```python\n",
    "df['age']\n",
    "```\n",
    "或是\n",
    "```python\n",
    "df.age\n",
    "```\n"
   ]
  },
  {
   "cell_type": "code",
   "execution_count": null,
   "metadata": {},
   "outputs": [],
   "source": []
  },
  {
   "cell_type": "markdown",
   "metadata": {},
   "source": [
    "# 若我想用條件選擇出一些資料\n",
    "選出年齡低於 50 的復仇者\n",
    "\n",
    "```python\n",
    "# 產生出一個由布林值構成的 series\n",
    "age_filter = df['age'] < 50\n",
    "print(age_filter)\n",
    "# 再將該 series 套回到 DataFrame\n",
    "df[age_filter]\n",
    "```"
   ]
  },
  {
   "cell_type": "code",
   "execution_count": null,
   "metadata": {},
   "outputs": [],
   "source": []
  },
  {
   "cell_type": "markdown",
   "metadata": {},
   "source": [
    "# 若我想用條件選擇出一些資料\n",
    "可以把 code 簡化成:\n",
    "\n",
    "```python\n",
    "df[df['age'] > 50]\n",
    "```"
   ]
  },
  {
   "cell_type": "code",
   "execution_count": null,
   "metadata": {},
   "outputs": [],
   "source": []
  },
  {
   "cell_type": "markdown",
   "metadata": {},
   "source": [
    "# 選擇資料\n",
    "\n",
    "```python\n",
    "age_filter = df['age'] < 50\n",
    "young_avengers_df = df[age_filter]\n",
    "super_filter = young_avengers_df['superpower'] == True\n",
    "young_avengers_df[super_filter]\n",
    "```"
   ]
  },
  {
   "cell_type": "code",
   "execution_count": null,
   "metadata": {},
   "outputs": [],
   "source": []
  },
  {
   "cell_type": "markdown",
   "metadata": {},
   "source": [
    "# 另一種寫法...\n",
    "結合兩者的搜尋結果\n",
    "```python \n",
    "(df['age'] <= 50) & (df['superpower'] == False)\n",
    "```\n",
    "\n",
    "把寫法整合一下：\n",
    "```python\n",
    "df[(df['age'] <= 50) & (df['superpower'] == False)]\n",
    "```"
   ]
  },
  {
   "cell_type": "code",
   "execution_count": null,
   "metadata": {},
   "outputs": [],
   "source": []
  },
  {
   "cell_type": "markdown",
   "metadata": {},
   "source": [
    "# Pandas 實戰專題：判斷漲跌\n",
    "\n",
    "利用 DataFrame 判斷漲跌：\n",
    "\n",
    "1. 計算出 S&P 500 歷史資料的報酬率\n",
    "2. 判斷是否為上漲\n",
    "3. 最後把當天是上漲的股價資料過濾出來\n",
    "4. 匯出成 Excel 檔案\n",
    "\n",
    "---\n",
    "# 範例 CSV 檔\n",
    "\n",
    "[範例 CSV 檔](https://www.dropbox.com/s/by2hfjhm07kkhbj/s%26p500.csv?dl=1)\n",
    "\n",
    "---\n",
    "# 將工作表的資料提取出來，存入 Dataframe\n",
    "\n",
    "```python\n",
    "import pandas as pd\n",
    "\n",
    "df = pd.read_csv(r“你的 s&p500.csv 檔案路徑”)\n",
    "df\n",
    "```\n",
    "\n",
    "補充：[官網教學](https://pandas.pydata.org/pandas-docs/stable/reference/api/pandas.read_excel.html)\n",
    "\n",
    "\n",
    "---"
   ]
  },
  {
   "cell_type": "code",
   "execution_count": null,
   "metadata": {},
   "outputs": [],
   "source": []
  },
  {
   "cell_type": "markdown",
   "metadata": {},
   "source": [
    "# 改變 DataFrame 的 row index\n",
    "\n",
    "```python\n",
    "file_path = r\"C:\\Users\\yuyue\\OneDrive\\桌面\\s&p500.csv\"\n",
    "# 以 csv 第一欄的 Date 作爲索引\n",
    "df = pd.read_csv(r\"你的 s&p500.csv 檔案路徑\", index_col=\"Date\", parse_dates=True)\n",
    "df\n",
    "```"
   ]
  },
  {
   "cell_type": "code",
   "execution_count": null,
   "metadata": {},
   "outputs": [],
   "source": []
  },
  {
   "cell_type": "markdown",
   "metadata": {},
   "source": [
    "# 繪製走勢圖功能\n",
    "\n",
    "讀取收盤價\n",
    "\n",
    "```python\n",
    "# 讀取 Adj Close 這一欄，回傳一個 Series\n",
    "df[\"Adj Close\"]\n",
    "```"
   ]
  },
  {
   "cell_type": "code",
   "execution_count": null,
   "metadata": {},
   "outputs": [],
   "source": []
  },
  {
   "cell_type": "markdown",
   "metadata": {},
   "source": [
    "# 畫出走勢圖\n",
    "\n",
    "```python\n",
    "# 從 Dataframe 截取收盤價，畫出走勢圖 \n",
    "plt = df[\"Adj Close\"].plot()\n",
    "plt.set_xlabel(\"Time\")\n",
    "plt.set_ylabel(\"Price\")\n",
    "plt.set_title(\"S&P 500 Closing Prices\")\n",
    "```"
   ]
  },
  {
   "cell_type": "code",
   "execution_count": null,
   "metadata": {},
   "outputs": [],
   "source": []
  },
  {
   "cell_type": "markdown",
   "metadata": {},
   "source": [
    "# 計算報酬率\n",
    "**pct_change()** 函數會幫你計算 row 之間數值的差距，並以百分比的形式呈現出來\n",
    "\n",
    "```python\n",
    "df[\"Adj Close\"].pct_change(1) * 100\n",
    "```\n",
    "\n",
    "補充：[官網教學](https://pandas.pydata.org/pandas-docs/version/0.23.4/generated/pandas.DataFrame.pct_change.html)"
   ]
  },
  {
   "cell_type": "code",
   "execution_count": null,
   "metadata": {},
   "outputs": [],
   "source": []
  },
  {
   "cell_type": "markdown",
   "metadata": {},
   "source": [
    "# 將結果寫入 DataFrame\n",
    "\n",
    "```python\n",
    "df[\"daily return\"] = df[\"Adj Close\"].pct_change(1) * 100\n",
    "```\n"
   ]
  },
  {
   "cell_type": "code",
   "execution_count": null,
   "metadata": {},
   "outputs": [],
   "source": []
  },
  {
   "cell_type": "markdown",
   "metadata": {},
   "source": [
    "# 找出所有當日上漲的資料\n",
    "\n",
    "先建立表頭為 \"是否上漲\" 的一欄\n",
    "\n",
    "```python\n",
    "df[\"是否上漲\"] = False\n",
    "```"
   ]
  },
  {
   "cell_type": "code",
   "execution_count": null,
   "metadata": {},
   "outputs": [],
   "source": []
  },
  {
   "cell_type": "markdown",
   "metadata": {},
   "source": [
    "# 找出所有當日上漲的資料\n",
    "\n",
    "```python\n",
    "df[\"是否上漲\"][df[\"daily return\"] > 0] = True\n",
    "```\n"
   ]
  },
  {
   "cell_type": "code",
   "execution_count": null,
   "metadata": {},
   "outputs": [],
   "source": []
  },
  {
   "cell_type": "markdown",
   "metadata": {},
   "source": [
    "# 過濾出所有當日上漲的資料\n",
    "\n",
    "```python\n",
    "df[df[\"是否上漲\"] == True]\n",
    "```\n"
   ]
  },
  {
   "cell_type": "code",
   "execution_count": null,
   "metadata": {},
   "outputs": [],
   "source": []
  },
  {
   "cell_type": "markdown",
   "metadata": {},
   "source": [
    "# 寫入 Excel\n",
    "\n",
    "```python\n",
    "result_df = df[df[\"是否上漲\"] == True]\n",
    "\n",
    "result_df.to_excel(\"stock_report.xlsx\")\n",
    "```\n",
    "\n",
    "補充：[官網教學](https://pandas.pydata.org/pandas-docs/stable/reference/api/pandas.DataFrame.to_excel.html)\n",
    "\n",
    "```python\n",
    "result_df.to_excel(r\"指定儲存 stock_report.xlsx 的路徑\", sheet_name=\"工作表名稱\")\n",
    "```"
   ]
  },
  {
   "cell_type": "code",
   "execution_count": null,
   "metadata": {},
   "outputs": [],
   "source": []
  }
 ],
 "metadata": {
  "kernelspec": {
   "display_name": "Python 3",
   "language": "python",
   "name": "python3"
  },
  "language_info": {
   "codemirror_mode": {
    "name": "ipython",
    "version": 3
   },
   "file_extension": ".py",
   "mimetype": "text/x-python",
   "name": "python",
   "nbconvert_exporter": "python",
   "pygments_lexer": "ipython3",
   "version": "3.7.3"
  }
 },
 "nbformat": 4,
 "nbformat_minor": 2
}
