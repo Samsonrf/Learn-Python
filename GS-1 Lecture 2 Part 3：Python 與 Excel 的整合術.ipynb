{
 "cells": [
  {
   "cell_type": "markdown",
   "metadata": {},
   "source": [
    "# 我們先復習一下 Excel\n",
    "\n",
    "Excel 是一個以**表格為結構的工具**\n",
    "\n",
    "---\n",
    "# 從結構化的角度來看\n",
    "\n",
    "**Application** (Excel 應用程式)\n",
    "\n",
    "**Workbook** (工作簿)\n",
    "\n",
    "**Worksheet** (工作表)\n",
    "\n",
    "**Range** (範圍)\n",
    "\n",
    "**Cell** (儲存格)\n",
    "\n",
    "# Excel 基礎：儲存格（Cell）\n",
    "\n",
    "![](./images/4.png)\n",
    "\n",
    "---\n",
    "# Excel 基礎：欄 (Column)\n",
    "\n",
    "![](./images/7.png)\n",
    "\n",
    "---\n",
    "# Excel 基礎：列（Row）\n",
    "\n",
    "![](./images/6.png)\n",
    "\n",
    "---\n",
    "# Row vs Column\n",
    "\n",
    "Row 是**橫向**，Column 是**縱向**\n",
    "\n",
    "Row 是用**數字**表示，Column 是用**英文字母**表示\n",
    "\n",
    "---\n",
    "# 儲存格命名規則\n",
    "\n",
    "- 在 Excel 的工作表中，任何一個儲存格都有獨一無二的儲存格位置\n",
    "- 這個位置是以該儲存格在工作表中的欄名+列號組合而成\n",
    "- 儲存格是用該儲存格的Row值與Column值表示，就如同儲存格的地址一樣\n",
    "\n",
    "例：下圖被選擇的儲存格名稱是 B4\n",
    "\n",
    "![](./images/8.png)\n",
    "\n",
    "---\n",
    "# Excel 公式（Formula）\n",
    "\n",
    "Excel 最核心的功能之一，容許使用者像寫數學公式一樣的\b在 Excel \b試算表上做數學運算\n",
    "\n",
    "---\n",
    "# \bExcel 公式基礎：數學公式\n",
    "\n",
    "\b今天若希望 \bExcel 能够做\b某一種數值運算，我們要如何在公式裡表達這個運算？\n",
    "\n",
    "---\n",
    "# 輸入 Excel 公式\n",
    "\n",
    "1. 先點選一個儲存格，讓其變成作用儲存格（Active Cell）\n",
    "\n",
    "![](./images/8.png)\n",
    "\n",
    "---\n",
    "# 輸入 Excel 公式\n",
    "\n",
    "\n",
    "2. 輸入符號「=」\n",
    "\n",
    "![](./images/12.png)\n",
    "\n",
    "---\n",
    "# 輸入 Excel 公式\n",
    "\n",
    "3. 接下来請輸入 2 + 3\n",
    "\n",
    "![](./images/13.png)\n",
    "\n",
    "---\n",
    "# 輸入 Excel 公式\n",
    "\n",
    "4. Excel 在計算出公式的結果後，會將答案顯示在儲存格内\n",
    "\n",
    "![](./images/14.png)\n",
    "\n",
    "---\n",
    "# 參照（Reference）\n",
    "\n",
    "在寫 Excel 公式時，其實可以輸入儲存格名稱，而 Excel 會帶入該儲存格内的資料\n",
    "\n",
    "![](./images/18.png)\n",
    "\n",
    "---"
   ]
  },
  {
   "cell_type": "markdown",
   "metadata": {},
   "source": [
    "# 在開始 VBA 之前\n",
    "\n",
    "[下載範例 Excel 檔](https://www.dropbox.com/s/hkf2vtl41smb487/Lecture%201%20-%20S%26P%20500%20data.xlsx?dl=1)\n",
    "\n",
    "---\n",
    "# 練習一：計算股票的日報酬率\n",
    "\n",
    "```\n",
    "日報酬率 = (今日收盤價 - 昨日收盤價) / 昨日收盤價\n",
    "```\n",
    "\n",
    "---\n",
    "# 但是設想一下...\n",
    "\n",
    "若今天需要計算報酬率的股票有一百支...\n",
    "\n",
    "輸入公式與下拉就變成了一件重複又無聊的事\n",
    "\n",
    "---"
   ]
  },
  {
   "cell_type": "markdown",
   "metadata": {},
   "source": [
    "# VBA 基礎\n",
    "\n",
    "今天無論學任何程式語言，通常在慣例上寫的第一個程式就是 `Hello World!`\n",
    "讓電腦顯示 `Hello World!` 字樣\n",
    "\n",
    "---\n",
    "# VBA Demo\n",
    "\n",
    "\n",
    "# 範例 Excel 檔案\n",
    "\n",
    "請開啓第一課教材的 `Cells_Range_Example.xlsx` 範例檔\n",
    "\n",
    "\n",
    "# 原則\n",
    "\n",
    "用一句話概括用寫和 Excel 相關的程式，就是：針對單位的儲存格進行操作，而**今天不管你是要操作任何一個單位的表格，首先一件事就是你必須得先選擇它。**\n",
    "\n",
    "\n",
    "### Cells() 函數：\n",
    "\n",
    "用法：**Cells(row值, column值)**\n",
    "\n",
    "今天當我想賦值給 A1 儲存格時：\n",
    "```vb\n",
    "Cells(1, 1).value = 123\n",
    "```\n",
    "問題是這樣的寫法非常不直覺，所以 VBA 也支援以下寫法：\n",
    "```vb\n",
    "Cells(1, \"A\").value = 123\n",
    "```\n",
    "\n",
    "### Range() 函數：\n",
    "\n",
    "當我需要針對一個或多個儲存格(一個 Excel 試算表的範圍)去進行操作時：\n",
    "\n",
    "用法：**Range(\"起點:結束點\")**\n",
    "\n",
    "將 A1 儲存格的值設定成 123\n",
    "```vb\n",
    "Range(\"A1\").value = 123\n",
    "```\n",
    "將範圍 A1 到 C3 共九個儲存格的值設定成 123\n",
    "\n",
    "```vb\n",
    "Range(\"A1:C3\").value = 123\n",
    "```\n",
    "\n",
    "### Dot Notation (句點表示法)：\n",
    "\n",
    "大部分的物件導向程式語言都支援的語法：\n",
    "\n",
    "**<物件名稱>.<屬性名稱> = <被賦予的值>**\n",
    "\n",
    "當然，字串在用 loop 執行時會增加程式碼的複雜度(字串拼接)\n",
    "所以 Range 有另一種用法：**Range(Cells(起點), Cells(結束點))**\n",
    "\n",
    "```vb\n",
    "Range(Cells(1, \"A\"), Cells(3, \"C\")).value = 123\n",
    "```"
   ]
  },
  {
   "cell_type": "markdown",
   "metadata": {},
   "source": [
    "# 接下來我們來試試看 xlwings 套件\n",
    "\n",
    "- 先關閉你的 Excel 應用程式"
   ]
  },
  {
   "cell_type": "code",
   "execution_count": null,
   "metadata": {},
   "outputs": [],
   "source": [
    "# 引用 xlwings 套件\n",
    "import xlwings as xw"
   ]
  },
  {
   "cell_type": "code",
   "execution_count": null,
   "metadata": {},
   "outputs": [],
   "source": [
    "# 打開你的 Cells_Range_Examples.xlsm 檔案 \n",
    "# 若該檔案與這個 ipynb 檔案是在同一個資料夾下，輸入檔名即可\n",
    "wb = xw.Book(r\"Cells_Range_Examples.xlsm 的路徑\")"
   ]
  },
  {
   "cell_type": "code",
   "execution_count": null,
   "metadata": {},
   "outputs": [],
   "source": [
    "# 從該 Excel 檔案裡找出名為 \"練習1\" 的試算表，存入 sheet 這個變數裏\n",
    "sheet = wb.sheets[\"練習1\"]\n",
    "sheet"
   ]
  },
  {
   "cell_type": "markdown",
   "metadata": {},
   "source": [
    "### xlwings 的 cells() 與 range()\n",
    "\n",
    "在語法上非常貼近 VBA 的 cells() 與 range():\n",
    "\n",
    "```python\n",
    "sheet.cells(1, 'A').value = 123\n",
    "\n",
    "sheet.range(\"A1:C3\").value = 123\n",
    "```\n",
    "\n",
    "這樣的好處是大幅降低了 VBA 開發者切換至 Python 的學習成本\n",
    "\n",
    "另外，**range()** 函數允許你選擇**一個或多個儲存格組成的範圍**\n",
    "\n",
    "\n",
    "以下程式碼代表我要選擇 A1 儲存格\n",
    "```python\n",
    "sheet.range(\"A1\")\n",
    "```\n",
    "\n",
    "以下程式碼代表我要選擇 A1 到 A3 這三個連續的儲存格組成的範圍\n",
    "\n",
    "```python\n",
    "sheet.range(\"A1:A3\")\n",
    "```"
   ]
  },
  {
   "cell_type": "code",
   "execution_count": null,
   "metadata": {},
   "outputs": [],
   "source": [
    "# sheet.range(\"A2\").value = 100"
   ]
  },
  {
   "cell_type": "code",
   "execution_count": null,
   "metadata": {},
   "outputs": [],
   "source": [
    "# sheet.range(\"A7:B7\").value = \"ABC\""
   ]
  },
  {
   "cell_type": "code",
   "execution_count": null,
   "metadata": {},
   "outputs": [],
   "source": [
    "# sheet.range(\"A2\").value = 100"
   ]
  },
  {
   "cell_type": "code",
   "execution_count": null,
   "metadata": {},
   "outputs": [],
   "source": [
    "# sheet.range(\"A7:B7\").value = \"ABC\""
   ]
  },
  {
   "cell_type": "code",
   "execution_count": null,
   "metadata": {},
   "outputs": [],
   "source": [
    "# sheet.range(\"A12:C13\").value = 5"
   ]
  },
  {
   "cell_type": "code",
   "execution_count": null,
   "metadata": {},
   "outputs": [],
   "source": [
    "# sheet.range(\"C17\").value = sheet.range(\"A17\").value"
   ]
  },
  {
   "cell_type": "code",
   "execution_count": null,
   "metadata": {},
   "outputs": [],
   "source": [
    "# sheet.range(\"A22:B22\").value"
   ]
  },
  {
   "cell_type": "code",
   "execution_count": null,
   "metadata": {},
   "outputs": [],
   "source": [
    "# sheet.range(\"C35\").formula = \"=SUM(A35:A37)\""
   ]
  },
  {
   "cell_type": "code",
   "execution_count": null,
   "metadata": {},
   "outputs": [],
   "source": [
    "#sheet.range(\"C41\").formula = \"=SUM(A41:A43)\""
   ]
  },
  {
   "cell_type": "code",
   "execution_count": null,
   "metadata": {},
   "outputs": [],
   "source": [
    "# sheet.range(\"A42\").color = (255, 0, 0)"
   ]
  },
  {
   "cell_type": "markdown",
   "metadata": {},
   "source": [
    "\n",
    "### VBA Cells() 函數：\n",
    "\n",
    "用法：**Cells(row值, column值)**\n",
    "\n",
    "今天當我想賦值給 A1 儲存格時：\n",
    "```vb\n",
    "Cells(1, 1).value = 123\n",
    "```\n",
    "問題是這樣的寫法非常不直覺，所以 VBA 也支援以下寫法：\n",
    "```vb\n",
    "Cells(1, \"A\").value = 123\n",
    "```\n",
    "\n",
    "\n",
    "### xlwings 套件的 cells() \n",
    "\n",
    "在語法上非常貼近 VBA 的 cells() :\n",
    "\n",
    "```python\n",
    "sheet.cells(1, 'A').value = 123\n",
    "\n",
    "```"
   ]
  },
  {
   "cell_type": "code",
   "execution_count": null,
   "metadata": {},
   "outputs": [],
   "source": [
    "sheet.cells(47, \"A\").value = 99"
   ]
  },
  {
   "cell_type": "markdown",
   "metadata": {},
   "source": [
    "## 使用 cells() 的小叮嚀\n",
    "\n",
    "今天我若想擷取 B1 儲存格的值，可以這樣寫：\n",
    "```python\n",
    "tsmc_sheet.cells(1, \"B\").value\n",
    "```\n",
    "\n",
    "## cells(儲存格的row值，儲存格的column值)\n",
    "\n",
    "儲存格的column值可以用字串 'B' 或 數字 2 表示"
   ]
  },
  {
   "cell_type": "code",
   "execution_count": null,
   "metadata": {},
   "outputs": [],
   "source": [
    "sheet.cells(42, \"A\").value = 99"
   ]
  },
  {
   "cell_type": "markdown",
   "metadata": {},
   "source": [
    "## 但是！\n",
    "\n",
    "**若你是用 Mac, xlwings 不支援用字串表示 column 值**\n",
    "\n",
    "這是 xlwings 在 Mac 上的極限，所以若你是用 Mac，上述程式碼需改寫成：\n",
    "\n",
    "```python\n",
    "sheet.cells(1, 2).value\n",
    "```"
   ]
  },
  {
   "cell_type": "code",
   "execution_count": null,
   "metadata": {},
   "outputs": [],
   "source": [
    "import xlwings as xw\n",
    "# 若該檔案與這個 ipynb 檔案是在同一個資料夾下，輸入檔名即可\n",
    "wb = xw.Book(r\"stock_price_data.xlsx 的路徑\")\n",
    "tsmc_sheet = wb.sheets[\"2330\"]\n",
    "tsmc_sheet"
   ]
  },
  {
   "cell_type": "markdown",
   "metadata": {},
   "source": [
    "# 計算報酬率"
   ]
  },
  {
   "cell_type": "code",
   "execution_count": null,
   "metadata": {},
   "outputs": [],
   "source": [
    "# 算出所有的報酬率\n",
    "for i in range(3, 97):\n",
    "    daily_return = (tsmc_sheet.range(f\"B{i}\").value - tsmc_sheet.range(f\"B{i-1}\").value) / tsmc_sheet.range(f\"B{i-1}\").value\n",
    "    tsmc_sheet.range(f\"C{i}\").value = daily_return"
   ]
  },
  {
   "cell_type": "markdown",
   "metadata": {},
   "source": [
    "問題來了，要是試算表上**多了或少了一筆資料，原本的程式就爆炸了...**\n",
    "\n",
    "**若你寫出了一個需要頻繁修改的程式，那就失去了自動化的意義**\n",
    "\n",
    "我們需要一個能夠動態偵測我們有幾筆資料需要計算的方法\n",
    "\n",
    "在 VBA 的世界裡，有個好用的函數叫做 **End()**，可以動態偵測一從一個儲存格開始，**連續、有值範圍的最後一個儲存格**：\n",
    "\n",
    "\n",
    "|  **常數**       | **方向**          |\n",
    "| ------------- |:-----------:| \n",
    "| **End(xlDown)**    | ↓      | \n",
    "| **End(xlUp)**     | ↑      | \n",
    "| **End(xlRight)** | →      |\n",
    "| **End(xlRight)** | ←      |\n",
    "\n",
    "\n",
    "\n",
    "\n",
    "範例1：會從 A1 儲存格開始，**往下**查找到最後一個有值的儲存格\n",
    "```vb\n",
    "last_row = Range(\"A1\").End(xlDown).Row\n",
    "```\n",
    "\n",
    "範例2：會從 A1 儲存格開始，**往右**查找到最後一個有值的儲存格\n",
    "```vb\n",
    "last_col = Range(\"A1\").End(xlToRight).Column\n",
    "```\n",
    "\n",
    "幸運的是，`xlwings` 也具備了一模一樣的功能："
   ]
  },
  {
   "cell_type": "code",
   "execution_count": null,
   "metadata": {},
   "outputs": [],
   "source": [
    "from xlwings.constants import Direction\n",
    "\n",
    "last_cell = tsmc_sheet.range(\"A1\").end(Direction.xlDown)\n",
    "last_row = last_cell.row\n",
    "last_row"
   ]
  },
  {
   "cell_type": "code",
   "execution_count": null,
   "metadata": {},
   "outputs": [],
   "source": [
    "# 會 VBA 的人，馬上可以看出 xlwings 原汁原味的實作了 Python 版的 End() 函數\n",
    "from xlwings.constants import Direction\n",
    "\n",
    "# 從 B1 儲存格開始，往下查找到最後一個有值的儲存格\n",
    "last_cell = tsmc_sheet.range(\"A1\").end(Direction.xlDown).end(Direction.xlToRight)\n",
    "# 把從 A1 開始，最右下角的儲存格底色換成紅色\n",
    "last_cell.color = (255, 0, 0)"
   ]
  },
  {
   "cell_type": "markdown",
   "metadata": {},
   "source": [
    "但是上述寫法有些冗長，也是貼近 VBA 而非 Python 的風格，因此 xlwings 也支援以下寫法：\n",
    "\n",
    "```python\n",
    "last_cell = tsmc_sheet.range(\"A1\").end(\"down\")\n",
    "```\n",
    "\n",
    "相對乾净簡潔"
   ]
  },
  {
   "cell_type": "code",
   "execution_count": null,
   "metadata": {},
   "outputs": [],
   "source": [
    "# 另一種比較簡潔的寫法則是...\n",
    "last_cell = tsmc_sheet.range(\"B4\").end(\"down\")\n",
    "print(last_cell)\n",
    "# 會找到 B96\n",
    "last_cell = tsmc_sheet.range(\"B4\").end(\"up\")\n",
    "print(last_cell)\n",
    "# 會找到 B1\n",
    "last_cell = tsmc_sheet.range(\"B4\").end(\"left\")\n",
    "print(last_cell)\n",
    "# 會找到 A4\n",
    "last_cell = tsmc_sheet.range(\"A1\").end(\"right\")\n",
    "print(last_cell)\n",
    "# 會找到 E1"
   ]
  },
  {
   "cell_type": "code",
   "execution_count": null,
   "metadata": {},
   "outputs": [],
   "source": [
    "# 查找從 A1 開始、有值的範圍的最右下角的儲存格，將其底色標為紅色\n",
    "tsmc_sheet.range(\"A1\").end(\"down\").end(\"right\").color = (255, 0, 0)\n",
    "# 將該儲存格存入 last_cell 變數\n",
    "last_cell = tsmc_sheet.range(\"A1\").end(\"down\").end(\"right\")\n",
    "# 使用 .row 屬性取得 row 值，也就是我們的資料有幾行\n",
    "last_cell.row"
   ]
  },
  {
   "cell_type": "markdown",
   "metadata": {},
   "source": [
    "# .formula 屬性\n",
    "\n",
    "\n",
    "每一個儲存格都有一個 formula 屬性，可以利用 python 動態設定該儲存格的公式\n",
    "\n",
    "\n",
    "**注意公式需要用字串 \"\" 表示，都是從 \"=\" 開始**\n",
    "\n",
    "```python\n",
    "tsmc_sheet.cells(4, \"D\").formula = \"=AVERAGE(B2:B4)\"\n",
    "```\n",
    "\n",
    "當然，我也可以用 range() 來選擇 D4:\n",
    "\n",
    "```python\n",
    "tsmc_sheet.range(\"D4\").formula = \"=AVERAGE(B2:B4)\"\n",
    "```\n",
    "\n"
   ]
  },
  {
   "cell_type": "code",
   "execution_count": null,
   "metadata": {},
   "outputs": [],
   "source": []
  },
  {
   "cell_type": "markdown",
   "metadata": {},
   "source": [
    "# 隨堂練習\n",
    "\n",
    "利用動態偵測最後一個 row 的方式計算每一天的報酬率\n",
    "\n",
    "```python\n",
    "num_of_rows = tsmc_sheet.range(\"B1\").end(\"down\").row\n",
    "\n",
    "for i in range(3, _________):\n",
    "    daily_return = _________________________________\n",
    "    ______________________ = daily_return\n",
    "```"
   ]
  },
  {
   "cell_type": "code",
   "execution_count": null,
   "metadata": {},
   "outputs": [],
   "source": [
    "last_row = tsmc_sheet.range(\"A1\").end(\"down\").row\n",
    "\n",
    "for i in range(3, last_row + 1):\n",
    "    daily_return = (tsmc_sheet.range(f\"B{i}\").value - tsmc_sheet.range(f\"B{i-1}\").value) / tsmc_sheet.range(f\"B{i-1}\").value\n",
    "    tsmc_sheet.range(f\"C{i}\").value = daily_return"
   ]
  },
  {
   "cell_type": "markdown",
   "metadata": {},
   "source": [
    "# 隨堂練習\n",
    "\n",
    "利用設定 .formula 屬性的方式計算每一天的三日移動平均：\n",
    "\n",
    "```python\n",
    "num_of_rows = tsmc_sheet.range(\"B1\").end(\"down\").row\n",
    "\n",
    "for i in range(4, _________):\n",
    "    formula = ________________________\n",
    "    tsmc_sheet.range(_______).formula = formula\n",
    "```"
   ]
  },
  {
   "cell_type": "code",
   "execution_count": null,
   "metadata": {},
   "outputs": [],
   "source": []
  },
  {
   "cell_type": "markdown",
   "metadata": {},
   "source": [
    "# .color 屬性\n",
    "\n",
    "每一個儲存格都有一個 color 屬性，可以利用 python 動態設定儲存格的底色\n",
    "\n",
    "注意 color 的表達方式是將三原色 (RGB 值) 用 tuple (元組) 來表示：\n",
    "\n",
    "```python\n",
    "# 紅色亮度調最大，藍色、綠色調最小\n",
    "(255, 0, 0)\n",
    "```\n",
    "\n",
    "所以若要把 A1 儲存格的底色換成紅色：\n",
    "\n",
    "```python\n",
    "tsmc_sheet.range(\"A1\").color = (255, 0, 0)\n",
    "```"
   ]
  },
  {
   "cell_type": "markdown",
   "metadata": {},
   "source": [
    "# 隨堂練習：\n",
    "\n",
    "將之前計算出來的報酬率加上一點視覺效果:\n",
    "\n",
    "若當天**上漲，就將儲存格底色變成紅色**\n",
    "\n",
    "**若當天下跌，就將儲存格底色變成綠色**\n",
    "\n",
    "## 提示影片：\n",
    "\n",
    "[![IMAGE ALT TEXT](http://img.youtube.com/vi/xDztsNqNaq4/0.jpg)](http://www.youtube.com/watch?v=xDztsNqNaq4 \"Video Title\")"
   ]
  },
  {
   "cell_type": "code",
   "execution_count": null,
   "metadata": {},
   "outputs": [],
   "source": []
  },
  {
   "cell_type": "markdown",
   "metadata": {},
   "source": [
    "# 設定字體顔色（僅限 windows）\n",
    "\n",
    "# .font.ColorIndex 屬性\n",
    "\n",
    "在 VBA 語言透過指定顔色的編號設定儲存格的底色\n",
    "\n",
    "```vb\n",
    "Range(\"A1\").Font.colorIndex = 3\n",
    "```\n",
    "\n",
    "而透過 xlwings 可以使用：\n",
    "\n",
    "```python\n",
    "tsmc_sheet.range(\"A1\").api.Font.colorIndex = 3\n",
    "```\n",
    "\n",
    "## 一些常用的顔色編號：\n",
    "\n",
    "![](https://www.dropbox.com/s/c8prdhqb0epnst4/2.PNG?dl=1)\n",
    "\n",
    "\n",
    "[關於顔色的官方文件](https://docs.microsoft.com/en-us/office/vba/api/excel.colorindex)"
   ]
  },
  {
   "cell_type": "markdown",
   "metadata": {},
   "source": [
    "# 延伸閲讀：\n",
    "\n",
    "### 我寫的 Medium 教學: \n",
    "\n",
    "1. [當大蟒蛇語言遇上老牌試算表軟體](https://medium.com/pyradise/%E7%95%B6%E5%A4%A7%E8%9F%92%E8%9B%87%E8%AA%9E%E8%A8%80%E9%81%87%E4%B8%8A%E8%80%81%E7%89%8C%E8%A9%A6%E7%AE%97%E8%A1%A8%E8%BB%9F%E9%AB%94-fc7947792000)\n",
    "\n",
    "2. [讓 Python 為你的 Excel 添加翅膀](https://medium.com/pyradise/%E7%95%B6%E5%A4%A7%E8%9F%92%E8%9B%87%E8%AA%9E%E8%A8%80%E9%81%87%E4%B8%8A%E8%80%81%E7%89%8C%E8%A9%A6%E7%AE%97%E8%A1%A8%E8%BB%9F%E9%AB%94-2-2e1e825b31fe)\n",
    "\n",
    "### xlwings 官網：\n",
    "\n",
    "[官網連結](https://www.xlwings.org/)"
   ]
  }
 ],
 "metadata": {
  "kernelspec": {
   "display_name": "Python 3",
   "language": "python",
   "name": "python3"
  },
  "language_info": {
   "codemirror_mode": {
    "name": "ipython",
    "version": 3
   },
   "file_extension": ".py",
   "mimetype": "text/x-python",
   "name": "python",
   "nbconvert_exporter": "python",
   "pygments_lexer": "ipython3",
   "version": "3.7.3"
  }
 },
 "nbformat": 4,
 "nbformat_minor": 2
}
