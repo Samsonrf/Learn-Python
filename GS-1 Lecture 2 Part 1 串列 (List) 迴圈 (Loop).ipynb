{
 "cells": [
  {
   "cell_type": "markdown",
   "metadata": {},
   "source": [
    "# 資料結構 Data Structure\n",
    "到目前爲止，我們在這堂課遇到的問題，量級都不大\n",
    "\n",
    "但是，若今天我們需要用程式處理的問題在量級上改變了，就需要用更高明的方法來解決問題\n",
    "\n",
    "\n",
    "# 資料結構 Data Structure\n",
    "今天假設你需要紀錄多天的台積電股價\n",
    "\n",
    "```\n",
    "224.5， 224.5， 233， 237.5， 237.5， 238\n",
    "```\n",
    "\n",
    "\n",
    "# 若需要用變數存所有的數值...\n",
    "\n",
    "土法鍊鋼法：\n",
    "\n",
    "```python\n",
    "price1 = 224.5\n",
    "price2 = 224.5\n",
    "price3 = 233\n",
    "price4 = 237.5\n",
    "price5 = 237.5\n",
    "price6 = 238\n",
    "```\n",
    "\n",
    "---\n",
    "# 若今天需要計算這些股價的加總...\n",
    "\n",
    "```python\n",
    "total = price1 + price2 + price3 + price4 + price5 + price6\n",
    "```\n",
    "\n",
    "需要計算的數值越多，程式碼就越容易變得冗長...\n",
    "\n",
    "\n",
    "# 若我們把這個問題提升一個量級\n",
    "\n",
    "需要計算 100 筆、或是 1000 筆股價的加總呢？\n",
    "\n",
    "你不會希望在程式碼内宣告 1000 個變數...\n",
    "\n",
    "\n",
    "# List（串列）\n",
    "\n",
    "\n",
    "# List（串列）\n",
    "建立時使用 `[ ]` 中括號\n",
    "簡單說就是一個容器，幫助你存取多筆資料\n",
    "\n",
    "```python\n",
    "注意每一筆資料都需要用 `,` 號隔開\n",
    "tsmc_prices = [224.5, 224.5, 233, 237.5, 237.5, 238]\n",
    "```\n"
   ]
  },
  {
   "cell_type": "code",
   "execution_count": null,
   "metadata": {},
   "outputs": [],
   "source": []
  },
  {
   "cell_type": "markdown",
   "metadata": {},
   "source": [
    "# List（串列）\n",
    "一個裝了多筆資料的清單可以被存入一個**單一的變數**\n",
    "\n",
    "```python\n",
    "tsmc_prices = [224.5, 224.5, 233, 237.5, 237.5, 238]\n",
    "```"
   ]
  },
  {
   "cell_type": "code",
   "execution_count": null,
   "metadata": {},
   "outputs": [],
   "source": []
  },
  {
   "cell_type": "markdown",
   "metadata": {},
   "source": [
    "# 從 Excel 的角度來理解 List...\n",
    "\n",
    "![](https://www.dropbox.com/s/xl49m3wzc855kax/list.PNG?dl=1)\n",
    "\n",
    "今天我把資料存入 Excel 這個容器，我就可以用 Excel 内建的功能，像是 `SUM()` 函數，很輕鬆的就能把加總算出來\n",
    "\n",
    "![](./images/list.png)\n",
    "\n",
    "\n",
    "# 一個原則\n",
    "人與虛擬世界的資料互動，回到最基本，可以分爲以下四種操作：\n",
    "\n",
    "- Create 建立資料\n",
    "- Read 讀取資料\n",
    "- Update 更新資料\n",
    "- Delete 刪除資料\n",
    "\n",
    "簡稱 `CRUD`\n",
    "\n",
    "\n",
    "# CRUD\n",
    "\n",
    "當我們在學習一個新的資料結構時，最重要的就是先把該資料結構的 `CRUD` 四種功能搞懂\n",
    "\n",
    "搞懂了這四種基礎的功能，就可以有效的運用資料結構\n",
    "\n",
    "---\n",
    "# 若想提取出一個 List 内的某一筆資料\n",
    "用索引值（Index）即可\n",
    "\n",
    "| tsmc_prices  | 224.5 | 224.5 | 233 | 237.5 | 237.5 | 238 |\n",
    "| ------ | --- | --- | --- | --- | --- | --- |\n",
    "| 索引值 | 0   | 1   | 2   | 3   | 4   | 5   |"
   ]
  },
  {
   "cell_type": "code",
   "execution_count": null,
   "metadata": {},
   "outputs": [],
   "source": [
    "tsmc_prices = [224.5, 224.5, 233, 237.5, 237.5, 238]\n",
    "tsmc_prices[0]\n",
    "# 224.5\n",
    "tsmc_prices[5]\n",
    "# 238"
   ]
  },
  {
   "cell_type": "markdown",
   "metadata": {},
   "source": [
    "# 由此可見\n",
    "- List 很適合用來表示**一組有序的資料**\n",
    "\n",
    "\n",
    "# 如同字串，List 支援 Slicing (切片) 功能\n",
    "若需要提取出 LIst 内連續的，多筆的資料時：\n",
    "\n",
    "```python\n",
    "tsmc_prices[0:3]\n",
    "# [224.5, 224.5, 233]\n",
    "```\n"
   ]
  },
  {
   "cell_type": "code",
   "execution_count": null,
   "metadata": {},
   "outputs": [],
   "source": []
  },
  {
   "cell_type": "markdown",
   "metadata": {},
   "source": [
    "# 同樣的，今天若我想取得倒數第一筆資料...\n",
    "索引值可以用負數指定\n",
    "\n",
    "```python\n",
    "data = [1,2,3,4,5]\n",
    "\n",
    "data[-1]\n",
    "# 5\n",
    "```\n",
    "\n",
    "#  用負值表達 List 索引值\n",
    "| x  | 1 | 2 | 3 | 4 | 5 |\n",
    "| ------ | --- | --- | --- | --- | --- | \n",
    "| 索引值 | -5   | -4   | -3   | -2  | -1  | \n",
    "\n",
    "\n",
    "#  List 用負值表達索引值\n",
    "```python\n",
    "data = [1,2,3,4,5]\n",
    "data[-5:-2]\n",
    "# [1, 2, 3]\n",
    "```\n"
   ]
  },
  {
   "cell_type": "code",
   "execution_count": null,
   "metadata": {},
   "outputs": [],
   "source": []
  },
  {
   "cell_type": "markdown",
   "metadata": {},
   "source": [
    "\n",
    "# 隨堂練習\n",
    "給予一組台積電股價，請算出第三日的簡單移動平均（也就是平均值）\n",
    "\n",
    "[移動平均 Wiki](https://zh.wikipedia.org/wiki/%E7%A7%BB%E5%8B%95%E5%B9%B3%E5%9D%87)\n",
    "\n",
    "```python\n",
    "tsmc_prices = [224.5, 224.5, 233, 237.5, 237.5, 238]\n",
    "frist_three_prices = _________________\n",
    "moving_average = _________________\n",
    "print(moving_average)\n",
    "```"
   ]
  },
  {
   "cell_type": "code",
   "execution_count": null,
   "metadata": {},
   "outputs": [],
   "source": []
  },
  {
   "cell_type": "markdown",
   "metadata": {},
   "source": [
    "\n",
    "# 更新 List 内的資料\n",
    "\n",
    "可以透過指定索引值的方法，用 `=` 將新的資料指定給 List 内的位置\n",
    "\n",
    "```python\n",
    "avengers = [\"Ironman\", \"Captain America\", \"Hulk\", \"Black Widow\", \"Thor\", \"Hawkeye\"]\n",
    "avengers[5] = \"Black Panther\"\n",
    "print(avengers)\n",
    "# ['Ironman', 'Spider Man', 'Captain America', 'Hulk', 'Black Widow', 'Thor', '\"Black Panther']\n",
    "```\n"
   ]
  },
  {
   "cell_type": "code",
   "execution_count": null,
   "metadata": {},
   "outputs": [],
   "source": []
  },
  {
   "cell_type": "markdown",
   "metadata": {},
   "source": [
    "# 更新多筆資料的方法\n",
    "\n",
    "```python\n",
    "avengers = [\"Ironman\", \"Captain America\", \"Hulk\", \"Black Widow\", \"Thor\", \"Hawkeye\"]\n",
    "avengers[1:3] = [\"Spider Man\", \"Black Panther\"]\n",
    "print(avengers)\n",
    "# ['Ironman', 'Spider Man', 'Black Panther', 'Black Widow', 'Thor', 'Hawkeye']\n",
    "```\n"
   ]
  },
  {
   "cell_type": "code",
   "execution_count": null,
   "metadata": {},
   "outputs": [],
   "source": []
  },
  {
   "cell_type": "markdown",
   "metadata": {},
   "source": [
    "#  List.append()\n",
    "將資料附加至清單結尾處\n",
    "\n",
    "```python\n",
    "avengers = [\"Ironman\", \"Captain America\", \"Hulk\", \"Black Widow\", \"Thor\", \"Hawkeye\"]\n",
    "avengers.append(\"Spider Man\")\n",
    "print(avengers)\n",
    "# [\"Ironman\", \"Captain America\", \"Hulk\", \"Black Widow\", \"Thor\", \"Hawkeye\", \"Spider Man\"]\n",
    "```\n"
   ]
  },
  {
   "cell_type": "code",
   "execution_count": null,
   "metadata": {},
   "outputs": [],
   "source": []
  },
  {
   "cell_type": "markdown",
   "metadata": {},
   "source": [
    "# List.insert()\n",
    "將資料附加至清單内指定的位置\n",
    "\n",
    "```python\n",
    "avengers = [\"Ironman\", \"Captain America\", \"Hulk\", \"Black Widow\", \"Thor\", \"Hawkeye\"]\n",
    "avengers.insert(1, \"Spider Man\")\n",
    "print(avengers)\n",
    "# ['Ironman', 'Spider Man', 'Captain America', 'Hulk', 'Black Widow', 'Thor', 'Hawkeye']\n",
    "```\n"
   ]
  },
  {
   "cell_type": "code",
   "execution_count": null,
   "metadata": {},
   "outputs": [],
   "source": []
  },
  {
   "cell_type": "markdown",
   "metadata": {},
   "source": [
    "# del\n",
    "\n",
    "移除 list 中的元素\n",
    "\n",
    "```python\n",
    "avengers = [\"Ironman\", \"Captain America\", \"Hulk\", \"Black Widow\", \"Thor\", \"Hawkeye\"]\n",
    "del avengers[1]\n",
    "print(avengers)\n",
    "# ['Ironman', 'Hulk', 'Black Widow', 'Thor', 'Hawkeye']\n",
    "```\n"
   ]
  },
  {
   "cell_type": "code",
   "execution_count": null,
   "metadata": {},
   "outputs": [],
   "source": []
  },
  {
   "cell_type": "markdown",
   "metadata": {},
   "source": [
    "# List.pop() 方法\n",
    "移除 list 裡面的**最後一筆資料**\n",
    "\n",
    "```python\n",
    "avengers = [\"Ironman\", \"Captain America\", \"Hulk\", \"Black Widow\", \"Thor\", \"Hawkeye\"]\n",
    "avengers.pop()\n",
    "avengers\n",
    "# [\"Ironman\", \"Captain America\", \"Hulk\", \"Black Widow\", \"Thor\"]\n",
    "```"
   ]
  },
  {
   "cell_type": "code",
   "execution_count": null,
   "metadata": {},
   "outputs": [],
   "source": []
  },
  {
   "cell_type": "markdown",
   "metadata": {},
   "source": [
    "# List.remove()\n",
    "\n",
    "指定要被刪除的資料\n",
    "\n",
    "```python\n",
    "avengers = [\"Ironman\", \"Captain America\", \"Hulk\", \"Black Widow\", \"Thor\", \"Hawkeye\"]\n",
    "avengers.remove(\"Captain America\")\n",
    "avengers\n",
    "# [\"Ironman\", \"Hulk\", \"Black Widow\", \"Thor\", \"Hawkeye\"]\n",
    "```"
   ]
  },
  {
   "cell_type": "code",
   "execution_count": null,
   "metadata": {},
   "outputs": [],
   "source": []
  },
  {
   "cell_type": "markdown",
   "metadata": {},
   "source": [
    "# 若想得知一個 List 內有幾筆資料...\n",
    "可用 `len()` 函數：\n",
    "\n",
    "```python\n",
    "my_list = [1,2,3]\n",
    "len(my_list)\n",
    "# 3\n",
    "```"
   ]
  },
  {
   "cell_type": "code",
   "execution_count": null,
   "metadata": {},
   "outputs": [],
   "source": []
  },
  {
   "cell_type": "markdown",
   "metadata": {},
   "source": [
    "# 若想得知一個 List 內資料的加總...\n",
    "可用 `sum()` 函數：\n",
    "\n",
    "```python\n",
    "my_list = [1,2,3]\n",
    "sum(my_list)\n",
    "# 6\n",
    "```"
   ]
  },
  {
   "cell_type": "code",
   "execution_count": null,
   "metadata": {},
   "outputs": [],
   "source": []
  },
  {
   "cell_type": "markdown",
   "metadata": {},
   "source": [
    "# List 的特殊功能\n",
    "\n",
    "由於 List 内的資料都是**有序**的，因此，List 具備了**排序的功能**\n",
    "\n",
    "\n",
    "# List.sort() 方法\n",
    "\n",
    "針對一個 List 的資料的值做排序\n",
    "\n",
    "```python\n",
    "lst = [3,1,2,4,6,5]\n",
    "lst.sort()\n",
    "print(lst)\n",
    "# [1, 2, 3, 4, 5, 6]\n",
    "```"
   ]
  },
  {
   "cell_type": "code",
   "execution_count": null,
   "metadata": {},
   "outputs": [],
   "source": []
  },
  {
   "cell_type": "markdown",
   "metadata": {},
   "source": [
    "# List.sort() 方法\n",
    "\n",
    "若要反向，由大到小排序\n",
    "\n",
    "```python\n",
    "lst = [3,1,2,4,6,5]\n",
    "lst.sort(reverse=True)\n",
    "print(lst)\n",
    "# [6, 5, 4, 3, 2, 1]\n",
    "```"
   ]
  },
  {
   "cell_type": "code",
   "execution_count": null,
   "metadata": {},
   "outputs": [],
   "source": []
  },
  {
   "cell_type": "markdown",
   "metadata": {},
   "source": [
    "# List.sort() 方法\n",
    "\n",
    "`sort()` 也支援字串排序，以英文字母為順序\n",
    "\n",
    "```python\n",
    "avengers = [\"Ironman\", \"Captain America\", \"Hulk\", \"Black Widow\", \"Thor\", \"Hawkeye\"]\n",
    "\n",
    "avengers.sort()\n",
    "print(avengers)\n",
    "# ['Black Widow', 'Captain America', 'Hawkeye', 'Hulk', 'Ironman', 'Thor']\n",
    "```"
   ]
  },
  {
   "cell_type": "code",
   "execution_count": null,
   "metadata": {},
   "outputs": [],
   "source": []
  },
  {
   "cell_type": "markdown",
   "metadata": {},
   "source": [
    "# List.sort() 方法\n",
    "\n",
    "```python\n",
    "avengers = [\"Ironman\", \"Captain America\", \"Hulk\", \"Black Widow\", \"Thor\", \"Hawkeye\"]\n",
    "\n",
    "avengers.sort(reverse=True)\n",
    "print(avengers)\n",
    "# ['Thor', 'Ironman', 'Hulk', 'Hawkeye', 'Captain America', 'Black Widow']\n",
    "```"
   ]
  },
  {
   "cell_type": "code",
   "execution_count": null,
   "metadata": {},
   "outputs": [],
   "source": []
  },
  {
   "cell_type": "markdown",
   "metadata": {},
   "source": [
    "# List.reverse()\n",
    "\n",
    "將 List 内所有的資料順序倒反過來\n",
    "\n",
    "```python\n",
    "avengers = [\"Ironman\", \"Captain America\", \"Hulk\", \"Black Widow\", \"Thor\", \"Hawkeye\"]\n",
    "avengers.reverse()\n",
    "avengers\n",
    "# ['Hawkeye', 'Thor', 'Black Widow', 'Hulk', 'Captain America', 'Ironman']\n",
    "```"
   ]
  },
  {
   "cell_type": "code",
   "execution_count": null,
   "metadata": {},
   "outputs": [],
   "source": []
  },
  {
   "cell_type": "markdown",
   "metadata": {},
   "source": [
    "# List.index() \n",
    "\n",
    "尋找給定值在一個 List 的索引值\n",
    "\n",
    "```python\n",
    "data = [1,2,3,4,5]\n",
    "\n",
    "data.index(3)\n",
    "# 2\n",
    "```"
   ]
  },
  {
   "cell_type": "code",
   "execution_count": null,
   "metadata": {},
   "outputs": [],
   "source": []
  },
  {
   "cell_type": "markdown",
   "metadata": {},
   "source": [
    "# List.count()\n",
    "\n",
    "計算給定值在 List 出現的次數\n",
    "\n",
    "```python\n",
    "data = [1,1,2,2,2]\n",
    "\n",
    "data.count(2)\n",
    "# 3\n",
    "```"
   ]
  },
  {
   "cell_type": "code",
   "execution_count": null,
   "metadata": {},
   "outputs": [],
   "source": []
  },
  {
   "cell_type": "markdown",
   "metadata": {},
   "source": [
    "# in 運算子\n",
    "\n",
    "判斷某一筆資料是否在一個陣列内\n",
    "\n",
    "```python\n",
    "result = \"Ironman\" in [\"Ironman\", \"Captain America\", \"Hulk\", \"Black Widow\", \"Thor\", \"Hawkeye\"] # True\n",
    "print(result)\n",
    "\n",
    "result2 = \"Wolverine\" in  [\"Ironman\", \"Captain America\", \"Hulk\", \"Black Widow\", \"Thor\", \"Hawkeye\"]  # False\n",
    "print(result2)\n",
    "```"
   ]
  },
  {
   "cell_type": "code",
   "execution_count": null,
   "metadata": {},
   "outputs": [],
   "source": []
  },
  {
   "cell_type": "markdown",
   "metadata": {},
   "source": [
    "# List 也可以容納容納不同的變數類型\n",
    "一個 List 可以同時放入字串、整數、和布林值\n",
    "\n",
    "```python\n",
    "name = \"Tony Stark\"\n",
    "has_superpower = False\n",
    "number_of_armours = 46\n",
    "number_of_movies = [\"Iron Man\", \"Iron Man 2\", \"Iron Man 3\", \"Avengers\", \"Avengers: Age of Ultron\", \"Captain America: Civil War\" ]\n",
    "\n",
    "ironman = [name, has_superpower, number_of_armours, number_of_movies]\n",
    "```\n"
   ]
  },
  {
   "cell_type": "code",
   "execution_count": null,
   "metadata": {},
   "outputs": [],
   "source": []
  },
  {
   "cell_type": "markdown",
   "metadata": {},
   "source": [
    "# 空的 List\n",
    "\n",
    "今天我們也可以建立一個空的 List，之後再賦值\n",
    "\n",
    "```python\n",
    "lst = []\n",
    "print(lst)\n",
    "# []\n",
    "lst.append(1)\n",
    "print(lst)\n",
    "# [1]\n",
    "```"
   ]
  },
  {
   "cell_type": "code",
   "execution_count": null,
   "metadata": {},
   "outputs": [],
   "source": []
  },
  {
   "cell_type": "markdown",
   "metadata": {},
   "source": [
    "# 迴圈（Loop）\n",
    "\n",
    "假設今天需要印出所有復仇者的名字\n",
    "\n",
    "```python\n",
    "avengers = [\"Ironman\", \"Captain America\", \"Hulk\", \"Black Widow\", \"Thor\", \"Hawkeye\"]\n",
    "```\n",
    "\n",
    "# 土法煉鋼的方法\n",
    "```python\n",
    "avengers = [\"Ironman\", \"Captain America\", \"Hulk\", \"Black Widow\", \"Thor\", \"Hawkeye\"]\n",
    "\n",
    "print(avengers[0])\n",
    "print(avengers[1])\n",
    "print(avengers[2])\n",
    "print(avengers[3])\n",
    "print(avengers[4])\n",
    "print(avengers[5])\n",
    "```\n",
    "\n",
    "\n",
    "# 若今天復仇者有幾百個人...\n",
    "你只能表示: 呵呵\n",
    "\n",
    "\n",
    "# 這時你會希望...\n",
    "\n",
    "能有一個功能，幫我把 `print()` 重複執行很多次\n",
    "\n",
    "# 迴圈（Loop）\n",
    "\n",
    "就是把同樣的程式碼重複執行很多次 (迭代)"
   ]
  },
  {
   "cell_type": "code",
   "execution_count": null,
   "metadata": {},
   "outputs": [],
   "source": []
  },
  {
   "cell_type": "markdown",
   "metadata": {},
   "source": [
    "# 迴圈\n",
    "```python\n",
    "\n",
    "avengers = [\"Ironman\", \"Captain America\", \"Hulk\", \"Black Widow\", \"Thor\", \"Hawkeye\"]\n",
    "\n",
    "# 接下來我們就把 avengers 内的每一筆資料，依照順序遍歷一次\n",
    "# 每迭代到一筆資料，就放入變數 i\n",
    "for i in avengers:\n",
    "\t# 每次迭代時，變數 i 的值就會被 print() 顯示\n",
    "    print(i)\n",
    "\n",
    "# Ironman\n",
    "# Captain America\n",
    "# Hulk\n",
    "# Black Widow\n",
    "# Thor\n",
    "# Hawkeye\n",
    "```"
   ]
  },
  {
   "cell_type": "code",
   "execution_count": null,
   "metadata": {},
   "outputs": [],
   "source": []
  },
  {
   "cell_type": "markdown",
   "metadata": {},
   "source": [
    "# 簡單來說...\n",
    "\n",
    "就是把一段**同樣的程式碼重複執行很多次 (迭代)**\n",
    "\n",
    "但是每一次的迭代又會把清單裡的其中一筆資料放入變數\n",
    "\n",
    "而開發者可以利用這個變數在**每一次的迭代算出不一樣的結果**\n",
    "\n",
    "\n",
    "# 迴圈的結構(1)\n",
    "\n",
    "- 宣告迴圈的種類（for）\n",
    "- 宣告一個 iterator（avenger）\n",
    "- 宣告一個迴圈要跑的iterable（avengers）\n",
    "- 縮排宣告每一次 iterator 變動的時候要做什麼事（print(avenger)）\n",
    "\n",
    "\n",
    "# 迴圈的結構(2)\n",
    "\n",
    "```python\n",
    "for iterator in iterable:\n",
    "    # 用放入 iterator 的值去做一些事...\n",
    "```\n",
    "\n",
    "\n",
    "# 命名慣例\n",
    "iterator 用**單數**，iterable 用**複數**\n",
    "\n",
    "```python\n",
    "for cat in cats:\n",
    "\n",
    "for dog in dogs:\n",
    "\n",
    "for item in list_of_items:\n",
    "```\n",
    "\n",
    "\n",
    "# 注意事項\n",
    "\n",
    "- 忘記縮排\n",
    "- 不必要的縮排\n",
    "- 忘記冒號\n",
    "\n"
   ]
  },
  {
   "cell_type": "code",
   "execution_count": null,
   "metadata": {},
   "outputs": [],
   "source": []
  },
  {
   "cell_type": "markdown",
   "metadata": {},
   "source": [
    "# for range 迴圈\n",
    "\n",
    "我們來執行以下程式碼，把 `1` 到 `10` 這幾個數字依順序印出來...\n",
    "\n",
    "```python\n",
    "for i in range(1, 11):\n",
    "    print(i)\n",
    "```"
   ]
  },
  {
   "cell_type": "code",
   "execution_count": null,
   "metadata": {},
   "outputs": [],
   "source": []
  },
  {
   "cell_type": "markdown",
   "metadata": {},
   "source": [
    "# range(start, end)\n",
    "寫迴圈常用的函數，用途是指定一個**有序的數字範圍**\n",
    "\n",
    "```python\n",
    "range(起始值, 結束值的後一個數字)\n",
    "```\n"
   ]
  },
  {
   "cell_type": "code",
   "execution_count": null,
   "metadata": {},
   "outputs": [],
   "source": []
  },
  {
   "cell_type": "markdown",
   "metadata": {},
   "source": [
    "# range(start, end, step)\n",
    "第三個 step 代表間隔，一次跨過幾個數字迭代\n",
    "\n",
    "例：把 0..2..4..6..8..10 依序印出來：\n",
    "```python\n",
    "for i in range(0, 11, 2):\n",
    "    print(i)\n",
    "```"
   ]
  },
  {
   "cell_type": "code",
   "execution_count": null,
   "metadata": {},
   "outputs": [],
   "source": []
  },
  {
   "cell_type": "markdown",
   "metadata": {},
   "source": [
    "# range(start, end, step)\n",
    "當然，我也可以反著印：\n",
    "\n",
    "```python\n",
    "for i in range(10, 0, -1):\n",
    "    print(i)\n",
    "```"
   ]
  },
  {
   "cell_type": "code",
   "execution_count": null,
   "metadata": {},
   "outputs": [],
   "source": []
  },
  {
   "cell_type": "markdown",
   "metadata": {},
   "source": [
    "# 隨堂練習\n",
    "\n",
    "請利用 For 迴圈將 1 到 100 的加總算出來\n",
    "\n",
    "算出啦的結果應該是 5050"
   ]
  },
  {
   "cell_type": "code",
   "execution_count": 1,
   "metadata": {},
   "outputs": [
    {
     "data": {
      "text/plain": [
       "5050"
      ]
     },
     "execution_count": 1,
     "metadata": {},
     "output_type": "execute_result"
    }
   ],
   "source": []
  },
  {
   "cell_type": "markdown",
   "metadata": {},
   "source": [
    "# 隨堂練習 \n",
    "\n",
    "請登入 Code Judger ，找到 TQC+ 301 題並作答\n"
   ]
  },
  {
   "cell_type": "code",
   "execution_count": null,
   "metadata": {},
   "outputs": [],
   "source": []
  },
  {
   "cell_type": "markdown",
   "metadata": {},
   "source": [
    "# 解答\n",
    "\n",
    "```python\n",
    "num1 = int(input())\n",
    "num2 = int(input())\n",
    "\n",
    "# 用 total 記錄加總的值\n",
    "total = 0\n",
    "# 用 num1 和 num2 指定範圍\n",
    "for i in range(num1, num2+1):\n",
    "    # 每迭代一次，就將該次迭代 i 的值加上上一個迭代的值，再賦值給 i\n",
    "    total = total + i\n",
    "# 印出迴圈執行完的結果\n",
    "print(total)\n",
    "```\n",
    "\n"
   ]
  },
  {
   "cell_type": "code",
   "execution_count": null,
   "metadata": {},
   "outputs": [],
   "source": []
  },
  {
   "cell_type": "markdown",
   "metadata": {},
   "source": [
    "# 額外練習\n",
    "\n",
    "Code Judger TQC+ 603 題\n",
    "\n",
    "[Code Judger TQC+ 603 題](https://codejudger.com/)\n",
    "\n"
   ]
  },
  {
   "cell_type": "code",
   "execution_count": null,
   "metadata": {},
   "outputs": [],
   "source": []
  },
  {
   "cell_type": "markdown",
   "metadata": {},
   "source": [
    "# 額外練習\n",
    "\n",
    "計算 1 到 100 的**標準差**\n",
    "\n",
    "[標準差 Wiki](https://zh.wikipedia.org/wiki/%E6%A8%99%E6%BA%96%E5%B7%AE)\n",
    "\n",
    "```python\n",
    "# 產生出一個 1 到 100 的 list\n",
    "data = list(range(1, 101))\n",
    "# 算出標準差\n",
    "```"
   ]
  },
  {
   "cell_type": "code",
   "execution_count": null,
   "metadata": {},
   "outputs": [],
   "source": []
  },
  {
   "cell_type": "markdown",
   "metadata": {},
   "source": [
    "# while 迴圈\n",
    "\n",
    "```python\n",
    "while 比較式:\n",
    "    # 條件判斷為 True 的時候:\n",
    "    # 就一直做什麼事...\n",
    "```\n",
    "\n",
    "# while 迴圈範例\n",
    "```python\n",
    "my_int = 10\n",
    "# 若 my_int 大於 0, 就繼續執行迴圈，將 my_int 的值印出\n",
    "while my_int > 0:\n",
    "    print(my_int)\n",
    "\t# 每一次迭代就把 my_int 減一\n",
    "    my_int = my_int - 1\n",
    "```\n"
   ]
  },
  {
   "cell_type": "code",
   "execution_count": null,
   "metadata": {},
   "outputs": [],
   "source": []
  },
  {
   "cell_type": "markdown",
   "metadata": {},
   "source": [
    "# while 迴圈範例 (cont.)\n",
    "\n",
    "```python\n",
    "my_int = 10\n",
    "# 若 my_int 大於 0, 就繼續執行迴圈\n",
    "while my_int > 0:\n",
    "    print(my_int)\n",
    "\t# 每一次迭代就把 my_int 的值減一\n",
    "    my_int -= 1\n",
    "```\n",
    "\n",
    "# 隨堂練習\n",
    "用 while loop 將 1 到 100 加總起來\n",
    "\n",
    "```python\n",
    "total = 0\n",
    "count = 0\n",
    "\n",
    "while __________:\n",
    "    ___________\n",
    "```\n"
   ]
  },
  {
   "cell_type": "code",
   "execution_count": null,
   "metadata": {},
   "outputs": [],
   "source": []
  },
  {
   "cell_type": "markdown",
   "metadata": {},
   "source": [
    "# 注意事項\n",
    "\n",
    "請確保跳脫出 while loop 的條件有寫好\n",
    "\n",
    "請確保跳脫出 while loop 的條件有寫好\n",
    "\n",
    "請確保跳脫出 while loop 的條件有寫好\n",
    "\n",
    "不然你的下場就是寫出了**無限迴圈**\n",
    "\n",
    "\n",
    "# break\n",
    "遇到特殊情況，提前跳出迴圈\n",
    "\n",
    "```python\n",
    "while True:\n",
    "    print(\"輸入 7 才會停下來喔\")\n",
    "    user_number = int(input())\n",
    "    # 若使用者輸入的是7，就跳出 while 迴圈\n",
    "    if user_number == 7:\n",
    "        break\n",
    "\n",
    "print(\"跳出迴圈了, yay!\")\n",
    "```\n"
   ]
  },
  {
   "cell_type": "code",
   "execution_count": null,
   "metadata": {},
   "outputs": [],
   "source": []
  },
  {
   "cell_type": "markdown",
   "metadata": {},
   "source": [
    "# for vs while 迴圈\n",
    "\n",
    "什麽時候改用 for 或 while 迴圈？\n",
    "\n",
    "**若明確的知道迭代的次數，就用 for**\n",
    " \n",
    "**若不確定迴圈會迭代的次數，就用 while**\n",
    "\n",
    "\n",
    "# 範例：資料驗證\n",
    "檢查剪刀石頭布游戲玩家是否輸入了一個合法的選擇，若沒有，就持續讓使用者輸入選擇\n",
    "\n",
    "```python\n",
    "while True:\n",
    "    print(\"請出拳 (1) 剪刀 (2) 石頭 (3) 布：\")\n",
    "    user_hand = input()\n",
    "    # 若使用者輸入的字串内容是數字，而且該數字是 1, 2, 3 其中一者，就跳出 while 迴圈\n",
    "    if user_hand.isdigit() and user_hand in [\"1\", \"2\", \"3\"]:\n",
    "        break\n",
    "```"
   ]
  },
  {
   "cell_type": "code",
   "execution_count": null,
   "metadata": {},
   "outputs": [],
   "source": []
  },
  {
   "cell_type": "markdown",
   "metadata": {},
   "source": [
    "# str.isdigit()\n",
    "\n",
    "檢查字串是否由數字組成\n",
    "\n",
    "```python\n",
    "str1 = \"123456\"\n",
    "str1.isdigit() # True\n",
    "\n",
    "str2 = \"12.345abc\"\n",
    "str2.isdigit() # False\n",
    "```"
   ]
  },
  {
   "cell_type": "code",
   "execution_count": null,
   "metadata": {},
   "outputs": [],
   "source": []
  },
  {
   "cell_type": "markdown",
   "metadata": {},
   "source": [
    "# 回家作業\n",
    "\n",
    "把之前的剪刀、石頭、布遊戲加上以下功能：\n",
    "\n",
    "1. 檢查使用者出拳是否是在選擇範圍內 (1,2,3)\n",
    "2. 詢問使用者是否再玩一次，若使用者回答是肯定的，就再玩一次\n"
   ]
  },
  {
   "cell_type": "code",
   "execution_count": null,
   "metadata": {},
   "outputs": [],
   "source": []
  },
  {
   "cell_type": "markdown",
   "metadata": {},
   "source": [
    "![](https://drive.google.com/open?id=1uBu15tg8CcmCNfpXROY0UjcppCJoESHk/edit?usp=sharing)"
   ]
  }
 ],
 "metadata": {
  "kernelspec": {
   "display_name": "Python 3",
   "language": "python",
   "name": "python3"
  },
  "language_info": {
   "codemirror_mode": {
    "name": "ipython",
    "version": 3
   },
   "file_extension": ".py",
   "mimetype": "text/x-python",
   "name": "python",
   "nbconvert_exporter": "python",
   "pygments_lexer": "ipython3",
   "version": "3.7.3"
  }
 },
 "nbformat": 4,
 "nbformat_minor": 2
}
