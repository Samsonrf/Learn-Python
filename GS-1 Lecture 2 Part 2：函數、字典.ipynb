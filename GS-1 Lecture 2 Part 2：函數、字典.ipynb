{
 "cells": [
  {
   "cell_type": "markdown",
   "metadata": {},
   "source": [
    "# 函數 (Function)\n",
    "今天你的程式若有一段程式碼會被重複的寫了很多次\n",
    "\n",
    "像是今天你若有三個四方形的面積要計算\n",
    "\n",
    "```python\n",
    "width1 = 10\n",
    "width2 = 15\n",
    "width3 = 25\n",
    "height1 = 20\n",
    "height2 = 30\n",
    "height3 = 40\n",
    "\n",
    "area1 = width1 * height1\n",
    "area2 = width2 * height2\n",
    "area3 = width3 * height3\n",
    "# 同樣的算式，被重複太多次...\n",
    "```"
   ]
  },
  {
   "cell_type": "code",
   "execution_count": null,
   "metadata": {},
   "outputs": [],
   "source": []
  },
  {
   "cell_type": "markdown",
   "metadata": {},
   "source": [
    "# DRY (Don't Repeat Yourself)\n",
    "\n",
    "原則：不要重複你自己"
   ]
  },
  {
   "cell_type": "code",
   "execution_count": null,
   "metadata": {},
   "outputs": [],
   "source": []
  },
  {
   "cell_type": "markdown",
   "metadata": {},
   "source": [
    "# 函數 (Function)\n",
    "\n",
    "為了避免你的程式裡有太多重複的程式碼，導致整個程式變得過度冗長\n",
    "\n",
    "應該嘗試將這段程式碼封裝起來，需要時呼叫出來用即可"
   ]
  },
  {
   "cell_type": "code",
   "execution_count": null,
   "metadata": {},
   "outputs": [],
   "source": []
  },
  {
   "cell_type": "markdown",
   "metadata": {},
   "source": [
    "# 函數 (Function)\n",
    "\n",
    "如同數學公式一樣，我們把函數拆分成三個元件：\n",
    "\n",
    "- 輸入（input）\n",
    "- 算式 / 邏輯的抽象化\n",
    "- 輸出（output）\n"
   ]
  },
  {
   "cell_type": "code",
   "execution_count": null,
   "metadata": {},
   "outputs": [],
   "source": []
  },
  {
   "cell_type": "markdown",
   "metadata": {},
   "source": [
    "# 函數 (Function)\n",
    "\n",
    "函式 (Function) 語法的結構：\n",
    "\n",
    "```python\n",
    "def <函數名>(參數1, 參數2..., 參數N):\n",
    "    # 做些什麼事\n",
    "    return 輸出結果\n",
    "```"
   ]
  },
  {
   "cell_type": "code",
   "execution_count": null,
   "metadata": {},
   "outputs": [],
   "source": []
  },
  {
   "cell_type": "markdown",
   "metadata": {},
   "source": [
    "# 函數 (Function) 範例\n",
    "\n",
    "```python\n",
    "def add_one(x):\n",
    "   # 將輸入的數字取絕對值之後回傳\n",
    "    result = x + 1\n",
    "    return result\n",
    "\n",
    "# 呼叫 add_one 函數，輸入 100\n",
    "print(add_one(100))\n",
    "# 101\n",
    "```"
   ]
  },
  {
   "cell_type": "code",
   "execution_count": null,
   "metadata": {},
   "outputs": [],
   "source": []
  },
  {
   "cell_type": "markdown",
   "metadata": {},
   "source": [
    "# 函數 (Function) 範例\n",
    "\n",
    "定義一個函數，計算一個整數的絕對值\n",
    "\n",
    "```python\n",
    "def my_abs(x):\n",
    "   # 將輸入的數字取絕對值之後回傳\n",
    "    if x < 0:\n",
    "        return -x\n",
    "    else:\n",
    "        return x\n",
    "\n",
    "print(my_abs(-5))\n",
    "print(my_abs(10))\n",
    "```"
   ]
  },
  {
   "cell_type": "code",
   "execution_count": null,
   "metadata": {},
   "outputs": [],
   "source": []
  },
  {
   "cell_type": "markdown",
   "metadata": {},
   "source": [
    "# 隨堂練習\n",
    "回到我們之前的問題，請寫出一個函式 **sign(num)**:\n",
    "\n",
    "若偵測數字為正數，回傳 `1`\n",
    "\n",
    "若偵測數字為負數，回傳 `-1`\n",
    "\n",
    "若偵測數字為零，回傳 `0`\n",
    "\n",
    "```python\n",
    "def sign():\n",
    "    if _________:\n",
    "        return 1\n",
    "    elif _______:\n",
    "        return __\n",
    "    else:\n",
    "        return _\n",
    "```"
   ]
  },
  {
   "cell_type": "code",
   "execution_count": null,
   "metadata": {},
   "outputs": [],
   "source": []
  },
  {
   "cell_type": "markdown",
   "metadata": {},
   "source": [
    "# 隨堂練習\n",
    "\n",
    "用 `sign()` 自訂函數簡化原本判斷走勢的判斷式\n",
    "\n",
    "```python\n",
    "# 股票一報酬率\n",
    "stock_one_return = 0.1234\n",
    "# 股票二報酬率\n",
    "stock_two_return = -0.3456\n",
    "\n",
    "if _______:\n",
    "    print(\"兩者走勢相同\")\n",
    "else:\n",
    "    print(\"兩者走勢不同\")\n",
    "```\n"
   ]
  },
  {
   "cell_type": "code",
   "execution_count": null,
   "metadata": {},
   "outputs": [],
   "source": []
  },
  {
   "cell_type": "markdown",
   "metadata": {},
   "source": [
    "# 與原本的寫法比較一下...\n",
    "\n",
    "```python\n",
    "# 股票一報酬率\n",
    "stock_one_return = 0.123\n",
    "# 股票二報酬率\n",
    "stock_two_return = -0.345\n",
    "\n",
    "if stock_one_return < 0 and stock_two_return < 0:\n",
    "    print(\"兩者走勢相同\")\n",
    "elif stock_one_return > 0 and stock_two_return > 0:\n",
    "    print(\"兩者走勢相同\")\n",
    "elif stock_one_return == 0 and stock_two_return == 0:\n",
    "    print(\"兩者走勢相同\")\n",
    "else:\n",
    "    print(\"兩者走勢不同\")\n",
    "```"
   ]
  },
  {
   "cell_type": "markdown",
   "metadata": {},
   "source": [
    "# 多個參數（argument）\n",
    "\n",
    "今天若我們需要抽象成函數的問題有超過一個輸入時...\n",
    "\n",
    "```python\n",
    "def my_add(x, y):\n",
    "    result = x + y\n",
    "    return result\n",
    "\n",
    "print(my_add(1, 100))\n",
    "# 101\n",
    "```"
   ]
  },
  {
   "cell_type": "code",
   "execution_count": null,
   "metadata": {},
   "outputs": [],
   "source": []
  },
  {
   "cell_type": "markdown",
   "metadata": {},
   "source": [
    "# 隨堂練習\n",
    "\n",
    "計算營業稅\n",
    "- 稅率為 %5\n",
    "\n",
    "```python\n",
    "def calculate_tax(amount, rate):\n",
    "\ttax = _______________\n",
    "\treturn tax\n",
    "```"
   ]
  },
  {
   "cell_type": "code",
   "execution_count": null,
   "metadata": {},
   "outputs": [],
   "source": []
  },
  {
   "cell_type": "markdown",
   "metadata": {},
   "source": [
    "# 隨堂練習\n",
    "當然，每次輸入稅率很麻煩，所以你可以幫參數設定一個預設值：\n",
    "\n",
    "```python\n",
    "def calculate_tax(amount, rate=0.05):\n",
    "\ttax = _______________\n",
    "\treturn tax\n",
    "```"
   ]
  },
  {
   "cell_type": "code",
   "execution_count": null,
   "metadata": {},
   "outputs": [],
   "source": []
  },
  {
   "cell_type": "markdown",
   "metadata": {},
   "source": [
    "# 函式也可根據輸入的參數改變輸出的結果\n",
    "\n",
    "若第二個參數使用者輸入 True，回傳面積\n",
    "若第二個參數使用者輸入 False，回傳周長\n",
    "\n",
    "```python\n",
    "# 定義自訂函數\n",
    "def circle_calculate(radius, is_area):\n",
    "    # 依據輸入的半徑與 is_area 參數，計算圓形的面積或周長\n",
    "    pi = 3.14159\n",
    "\n",
    "    if is_area == True:\n",
    "        return pi * radius**2\n",
    "    else:\n",
    "        return 2 * pi * radius\n",
    "\n",
    "# 呼叫自訂函數\n",
    "help(circle_calculate) # 查詢自訂函數\n",
    "my_radius = 10\n",
    "print(circle_calculate(my_radius, True)) # 指定參數回傳面積\n",
    "print(circle_calculate(my_radius, False)) # 指定參數回傳周長\n",
    "```"
   ]
  },
  {
   "cell_type": "code",
   "execution_count": null,
   "metadata": {},
   "outputs": [],
   "source": []
  },
  {
   "cell_type": "markdown",
   "metadata": {},
   "source": [
    "# dict (字典)\n",
    "\n",
    "---\n",
    "# dict (字典)\n",
    "\n",
    "一個由零或多個 **key (鍵)** 與 **value (值)**對所構成的**無序結構**\n",
    "\n",
    "```python\n",
    "dict1 = {\n",
    "    \"a\": 1,\n",
    "    \"b\": 2\n",
    "}\n",
    "\n",
    "print(dict1)\n",
    "```\n"
   ]
  },
  {
   "cell_type": "code",
   "execution_count": null,
   "metadata": {},
   "outputs": [],
   "source": []
  },
  {
   "cell_type": "markdown",
   "metadata": {},
   "source": [
    "# 接下來每當我要讀取出一個值\n",
    "跟 List 不同在於，輸入的是與想取出的值對應的鍵，而非索引值\n",
    "\n",
    "```python\n",
    "dict1[\"a\"]\n",
    "# 1\n",
    "dict1[\"b\"]\n",
    "# 2\n",
    "```"
   ]
  },
  {
   "cell_type": "code",
   "execution_count": null,
   "metadata": {},
   "outputs": [],
   "source": []
  },
  {
   "cell_type": "markdown",
   "metadata": {},
   "source": [
    "# 每一筆值都會對應到一個獨特的鍵，就像是字典一樣\n",
    "\n",
    "---\n",
    "# 也可以想象成是置物櫃\n",
    "\n",
    "![](./images/locker.png)\n",
    "\n",
    "---\n",
    "# 一把鑰匙只能取得一個置物櫃裡的東西\n",
    "\n",
    "\n",
    "# 另外...\n",
    "一個 dict 可以放入**資料型別不同的資料**:\n",
    "\n",
    "```python\n",
    "dict1[\"abc\"] = \"Hello World\"\n",
    "```\n",
    "\n",
    "而 dict1 的內容就會變成\n",
    "\n",
    "```python\n",
    "{\n",
    "\t\"a\": 1,\n",
    "\t\"abc\": \"Hello World\",\n",
    "\t\"b\": 2,\n",
    "\t\"c\": 3\n",
    "}\n",
    "```\n"
   ]
  },
  {
   "cell_type": "code",
   "execution_count": null,
   "metadata": {},
   "outputs": [],
   "source": []
  },
  {
   "cell_type": "markdown",
   "metadata": {},
   "source": [
    "# 在字典裡新增一個鍵-值對\n",
    "\n",
    "```python\n",
    "dict1[\"c\"] = 3\n",
    "```\n",
    "\n",
    "而 dict1 的內容就會變成\n",
    "\n",
    "```python\n",
    "{\n",
    "\t\"a\": 1,\n",
    "\t\"b\": 2,\n",
    "\t\"c\": 3\n",
    "}\n",
    "```"
   ]
  },
  {
   "cell_type": "code",
   "execution_count": null,
   "metadata": {},
   "outputs": [],
   "source": []
  },
  {
   "cell_type": "markdown",
   "metadata": {},
   "source": [
    "# 更新 / 編輯一個 dict 的值\n",
    "\n",
    "```python\n",
    "dict1[\"a\"] = 101\n",
    "\n",
    "print(dict1[\"a\"])\n",
    "# 101\n",
    "```"
   ]
  },
  {
   "cell_type": "code",
   "execution_count": null,
   "metadata": {},
   "outputs": [],
   "source": []
  },
  {
   "cell_type": "markdown",
   "metadata": {},
   "source": [
    "# 刪除一個 dict 的值\n",
    "```python\n",
    "# 使用 del 關鍵字\n",
    "del dict1[\"b\"]\n",
    "```"
   ]
  },
  {
   "cell_type": "code",
   "execution_count": null,
   "metadata": {},
   "outputs": [],
   "source": []
  },
  {
   "cell_type": "markdown",
   "metadata": {},
   "source": [
    "# dict.clear()\n",
    "\n",
    "刪除所有項目\n",
    "\n",
    "```python\n",
    "dict1 = {\n",
    "\t\"a\": 1,\n",
    "\t\"b\": 2,\n",
    "\t\"c\": 3\n",
    "}\n",
    "\n",
    "dict1.clear()\n",
    "print(dict1)\n",
    "```"
   ]
  },
  {
   "cell_type": "code",
   "execution_count": null,
   "metadata": {},
   "outputs": [],
   "source": []
  },
  {
   "cell_type": "markdown",
   "metadata": {},
   "source": [
    "# in 運算子\n",
    "\n",
    "檢查一個 dict 内是否有某個鍵\n",
    "\n",
    "```python\n",
    "dict1 = {\n",
    "\t\"a\": 1,\n",
    "\t\"b\": 2,\n",
    "\t\"c\": 3\n",
    "}\n",
    "\n",
    "print(\"a\" in dict1)\n",
    "# True\n",
    "```"
   ]
  },
  {
   "cell_type": "code",
   "execution_count": null,
   "metadata": {},
   "outputs": [],
   "source": []
  },
  {
   "cell_type": "markdown",
   "metadata": {},
   "source": [
    "# 字典的特性：無序\n",
    "\n",
    "宣告字典的順序并不會影響到取得資料的正確性...\n",
    "\n",
    "```python\n",
    "dict1 = {\n",
    "    \"b\": 2,\n",
    "    \"a\": 1,\n",
    "    \"c\": 3\n",
    "}\n",
    "\n",
    "dict1[\"a\"]\n",
    "# 1\n",
    "dict1[\"b\"]\n",
    "# 2\n",
    "# 我依然可以得到正確的值\n",
    "```"
   ]
  },
  {
   "cell_type": "code",
   "execution_count": null,
   "metadata": {},
   "outputs": [],
   "source": []
  },
  {
   "cell_type": "markdown",
   "metadata": {},
   "source": [
    "# dict.keys()\n",
    "\n",
    "取出一個 Dict 内所有的鍵\n",
    "\n",
    "```python\n",
    "print(dict1.keys())\n",
    "# ['b', 'a', 'c']\n",
    "```"
   ]
  },
  {
   "cell_type": "code",
   "execution_count": null,
   "metadata": {},
   "outputs": [],
   "source": []
  },
  {
   "cell_type": "markdown",
   "metadata": {},
   "source": [
    "# dict.values()\n",
    "\n",
    "取出一個 Dict 内所有的值\n",
    "\n",
    "```python\n",
    "print(dict1.values())\n",
    "# [2, 1, 3]\n",
    "```"
   ]
  },
  {
   "cell_type": "code",
   "execution_count": null,
   "metadata": {},
   "outputs": [],
   "source": []
  },
  {
   "cell_type": "markdown",
   "metadata": {},
   "source": [
    "# dict.items()\n",
    "\n",
    "```python\n",
    "dict1 = {\n",
    "    \"b\": 2,\n",
    "    \"a\": 1,\n",
    "    \"c\": 3\n",
    "}\n",
    "\n",
    "dict1.items()\n",
    "# [(\"b\", 2), (\"a\", 1), (\"c\", 3)]\n",
    "```\n"
   ]
  },
  {
   "cell_type": "code",
   "execution_count": null,
   "metadata": {},
   "outputs": [],
   "source": []
  },
  {
   "cell_type": "markdown",
   "metadata": {},
   "source": [
    "# 用迴圈迭代所有的 key 和 value\n",
    "\n",
    "```python\n",
    "for key in dict1.keys():\n",
    "    print(key)\n",
    "\n",
    "for value in dict1.values():\n",
    "    print(value)\n",
    "\n",
    "for k, v in dict1.items():\n",
    "    print(\"{} {}\".format(k, v))\n",
    "```"
   ]
  },
  {
   "cell_type": "code",
   "execution_count": null,
   "metadata": {},
   "outputs": [],
   "source": []
  },
  {
   "cell_type": "markdown",
   "metadata": {},
   "source": [
    "# dict() 函數\n",
    "\n",
    "將多個 tuple 轉成 dict\n",
    "\n",
    "```python\n",
    "lol = [(\"a\", \"b\"), (\"c\", \"d\"), (\"e\", 'f')]\n",
    "\n",
    "dict(lol)\n",
    "# {'a': 'b', 'c': 'd', 'e': 'f'}\n",
    "```"
   ]
  },
  {
   "cell_type": "code",
   "execution_count": null,
   "metadata": {},
   "outputs": [],
   "source": []
  },
  {
   "cell_type": "markdown",
   "metadata": {},
   "source": [
    "# 實例\n",
    "\n",
    "將同一天、不同公司的股票放在同一個資料結構裡：\n",
    "\n",
    "```python\n",
    "tw_stock_prices = {\n",
    "    \"tsmc\": 257,\n",
    "    \"cathay\": 55\n",
    "}\n",
    "# 用公司名稱當作 key, 在取用相對應的股價就直覺很多\n",
    "tw_stock_prices[\"cathay\"]\n",
    "# 55\n",
    "```"
   ]
  },
  {
   "cell_type": "code",
   "execution_count": null,
   "metadata": {},
   "outputs": [],
   "source": []
  },
  {
   "cell_type": "markdown",
   "metadata": {},
   "source": [
    "# 巢狀資料結構\n",
    "可以將一個 list 變成 dict 的一個 value\n",
    "\n",
    "或是將多個 dict 存入一個 list\n",
    "\n",
    "```python \n",
    "tw_stock_prices = {\n",
    "    \"tsmc\": [224.5, 224.5, 233, 237.5, 237.5, 238],\n",
    "    \"cathay\": [55, 53, 52, 55, 56, 57]\n",
    "}\n",
    "\n",
    "tw_stock_prices[\"tsmc\"][0]\n",
    "# 224.5\n",
    "```"
   ]
  },
  {
   "cell_type": "code",
   "execution_count": null,
   "metadata": {},
   "outputs": [],
   "source": []
  },
  {
   "cell_type": "markdown",
   "metadata": {},
   "source": [
    "# Dict vs List\n",
    "\n",
    "兩者都可以存入多筆資料\n",
    "\n",
    "Dict 適合用於表達一個人、事、物的**多個屬性 (因爲屬性是無序的，不同屬性也可以用不同型別的資料表示)**\n",
    "\n",
    "相對的，List 則適合**有序的、同樣型別的資料 (股價)**\n"
   ]
  }
 ],
 "metadata": {
  "kernelspec": {
   "display_name": "Python 3",
   "language": "python",
   "name": "python3"
  },
  "language_info": {
   "codemirror_mode": {
    "name": "ipython",
    "version": 3
   },
   "file_extension": ".py",
   "mimetype": "text/x-python",
   "name": "python",
   "nbconvert_exporter": "python",
   "pygments_lexer": "ipython3",
   "version": "3.7.3"
  }
 },
 "nbformat": 4,
 "nbformat_minor": 2
}
